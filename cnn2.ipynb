{
  "nbformat": 4,
  "nbformat_minor": 0,
  "metadata": {
    "colab": {
      "provenance": [],
      "include_colab_link": true
    },
    "kernelspec": {
      "name": "python3",
      "display_name": "Python 3"
    },
    "language_info": {
      "name": "python"
    }
  },
  "cells": [
    {
      "cell_type": "markdown",
      "metadata": {
        "id": "view-in-github",
        "colab_type": "text"
      },
      "source": [
        "<a href=\"https://colab.research.google.com/github/Abhi311509/Rice-Leaf-Detection/blob/main/cnn2.ipynb\" target=\"_parent\"><img src=\"https://colab.research.google.com/assets/colab-badge.svg\" alt=\"Open In Colab\"/></a>"
      ]
    },
    {
      "cell_type": "code",
      "execution_count": 151,
      "metadata": {
        "id": "rPLBUMzcBJA9"
      },
      "outputs": [],
      "source": [
        "import os\n",
        "label = []\n",
        "for filename in os.listdir('/content/drive/MyDrive/Internships/PRCP-1001-RiceLeaf/data2/full_data/'):\n",
        "    label.append(filename)"
      ]
    },
    {
      "cell_type": "code",
      "source": [
        "label"
      ],
      "metadata": {
        "colab": {
          "base_uri": "https://localhost:8080/"
        },
        "id": "rypjUfveCcb-",
        "outputId": "c92f4ffa-9911-4f0d-f67b-2018ef990e90"
      },
      "execution_count": 152,
      "outputs": [
        {
          "output_type": "execute_result",
          "data": {
            "text/plain": [
              "['Bacterial leaf blight.19.jpeg',\n",
              " 'Bacterial leaf blight.18.jpeg',\n",
              " 'Bacterial leaf blight.17.jpeg',\n",
              " 'Bacterial leaf blight.14.jpeg',\n",
              " 'Bacterial leaf blight.13.jpeg',\n",
              " 'Bacterial leaf blight.12.jpeg',\n",
              " 'Bacterial leaf blight.16.jpeg',\n",
              " 'Bacterial leaf blight.11.jpeg',\n",
              " 'Bacterial leaf blight.10.jpeg',\n",
              " 'Bacterial leaf blight.1.jpeg',\n",
              " 'Bacterial leaf blight.15.jpeg',\n",
              " 'Bacterial leaf blight.0.jpeg',\n",
              " 'Bacterial leaf blight.34.jpeg',\n",
              " 'Bacterial leaf blight.33.jpeg',\n",
              " 'Bacterial leaf blight.7.jpeg',\n",
              " 'Bacterial leaf blight.32.jpeg',\n",
              " 'Bacterial leaf blight.31.jpeg',\n",
              " 'Bacterial leaf blight.30.jpeg',\n",
              " 'Bacterial leaf blight.3.jpeg',\n",
              " 'Bacterial leaf blight.29.jpeg',\n",
              " 'Bacterial leaf blight.25.jpeg',\n",
              " 'Bacterial leaf blight.28.jpeg',\n",
              " 'Bacterial leaf blight.24.jpeg',\n",
              " 'Bacterial leaf blight.23.jpeg',\n",
              " 'Bacterial leaf blight.22.jpeg',\n",
              " 'Bacterial leaf blight.21.jpeg',\n",
              " 'Bacterial leaf blight.27.jpeg',\n",
              " 'Bacterial leaf blight.20.jpeg',\n",
              " 'Bacterial leaf blight.2.jpeg',\n",
              " 'Bacterial leaf blight.26.jpeg',\n",
              " 'Brown spot.24.jpeg',\n",
              " 'Brown spot.22.jpeg',\n",
              " 'Brown spot.20.jpeg',\n",
              " 'Brown spot.21.jpeg',\n",
              " 'Brown spot.28.jpeg',\n",
              " 'Brown spot.23.jpeg',\n",
              " 'Brown spot.2.jpeg',\n",
              " 'Brown spot.19.jpeg',\n",
              " 'Brown spot.18.jpeg',\n",
              " 'Brown spot.13.jpeg',\n",
              " 'Brown spot.15.jpeg',\n",
              " 'Brown spot.14.jpeg',\n",
              " 'Brown spot.16.jpeg',\n",
              " 'Brown spot.12.jpeg',\n",
              " 'Brown spot.10.jpeg',\n",
              " 'Brown spot.11.jpeg',\n",
              " 'Brown spot.17.jpeg',\n",
              " 'Brown spot.1.jpeg',\n",
              " 'Bacterial leaf blight.9.jpeg',\n",
              " 'Brown spot.0.jpeg',\n",
              " 'Bacterial leaf blight.6.jpeg',\n",
              " 'Bacterial leaf blight.8.jpeg',\n",
              " 'Bacterial leaf blight.5.jpeg',\n",
              " 'Bacterial leaf blight.4.jpeg',\n",
              " 'Leaf smut.10.jpeg',\n",
              " 'Leaf smut.1.jpeg',\n",
              " 'Brown spot.5.jpeg',\n",
              " 'Brown spot.7.jpeg',\n",
              " 'Brown spot.6.jpeg',\n",
              " 'Leaf smut.0.jpeg',\n",
              " 'Brown spot.4.jpeg',\n",
              " 'Brown spot.34.jpeg',\n",
              " 'Brown spot.9.jpeg',\n",
              " 'Brown spot.33.jpeg',\n",
              " 'Brown spot.32.jpeg',\n",
              " 'Brown spot.31.jpeg',\n",
              " 'Brown spot.8.jpeg',\n",
              " 'Brown spot.30.jpeg',\n",
              " 'Brown spot.3.jpeg',\n",
              " 'Brown spot.27.jpeg',\n",
              " 'Brown spot.26.jpeg',\n",
              " 'Brown spot.29.jpeg',\n",
              " 'Brown spot.25.jpeg',\n",
              " 'Leaf smut.27.jpeg',\n",
              " 'Leaf smut.32.jpeg',\n",
              " 'Leaf smut.26.jpeg',\n",
              " 'Leaf smut.31.jpeg',\n",
              " 'Leaf smut.25.jpeg',\n",
              " 'Leaf smut.30.jpeg',\n",
              " 'Leaf smut.24.jpeg',\n",
              " 'Leaf smut.23.jpeg',\n",
              " 'Leaf smut.3.jpeg',\n",
              " 'Leaf smut.22.jpeg',\n",
              " 'Leaf smut.21.jpeg',\n",
              " 'Leaf smut.18.jpeg',\n",
              " 'Leaf smut.20.jpeg',\n",
              " 'Leaf smut.17.jpeg',\n",
              " 'Leaf smut.16.jpeg',\n",
              " 'Leaf smut.2.jpeg',\n",
              " 'Leaf smut.15.jpeg',\n",
              " 'Leaf smut.14.jpeg',\n",
              " 'Leaf smut.13.jpeg',\n",
              " 'Leaf smut.12.jpeg',\n",
              " 'Leaf smut.11.jpeg',\n",
              " 'Leaf smut.19.jpeg',\n",
              " 'Leaf smut.9.jpeg',\n",
              " 'Leaf smut.7.jpeg',\n",
              " 'Leaf smut.8.jpeg',\n",
              " 'Leaf smut.6.jpeg',\n",
              " 'Leaf smut.5.jpeg',\n",
              " 'Leaf smut.4.jpeg',\n",
              " 'Leaf smut.34.jpeg',\n",
              " 'Leaf smut.33.jpeg',\n",
              " 'Leaf smut.28.jpeg',\n",
              " 'Leaf smut.29.jpeg',\n",
              " 'Brown spot.39.jpeg',\n",
              " 'Bacterial leaf blight.35.jpeg',\n",
              " 'Bacterial leaf blight.36.jpeg',\n",
              " 'Bacterial leaf blight.37.jpeg',\n",
              " 'Bacterial leaf blight.38.jpeg',\n",
              " 'Bacterial leaf blight.39.jpeg',\n",
              " 'Leaf smut.35.jpeg',\n",
              " 'Leaf smut.36.jpeg',\n",
              " 'Leaf smut.37.jpeg',\n",
              " 'Leaf smut.38.jpeg',\n",
              " 'Brown spot.36.jpeg',\n",
              " 'Brown spot.35.jpeg',\n",
              " 'Brown spot.38.jpeg',\n",
              " 'Brown spot.37.jpeg']"
            ]
          },
          "metadata": {},
          "execution_count": 152
        }
      ]
    },
    {
      "cell_type": "code",
      "source": [
        "def rename_image(path,name):\n",
        "    '''\n",
        "    Take the path of the folder and the name of what you want to rename.\n",
        "    '''\n",
        "    for count, filename in enumerate(os.listdir(path)):\n",
        "        dst = name + '.' + str(count) + \".jpeg\"\n",
        "        src = path + filename\n",
        "        dst = path + dst\n",
        "        os.rename(src,dst)\n",
        "    print(\"image change is :\",count)\n",
        "    \n",
        "#For rename in subfolder    \n",
        "def file_name():\n",
        "    path='path-to/train/'\n",
        "    for i, name in enumerate(label):\n",
        "        real_path = path + label[i] + '/'\n",
        "        #real_path looks like below\n",
        "        #'path-to/train/cat'\n",
        "        #'path-to/train/dog'        \n",
        "        rename_image(real_path,name)\n",
        "\n"
      ],
      "metadata": {
        "id": "MzF6d4eQCCVD"
      },
      "execution_count": 153,
      "outputs": []
    },
    {
      "cell_type": "code",
      "source": [
        "rename_image('/content/drive/MyDrive/Internships/PRCP-1001-RiceLeaf/data2/train/Bacterial Leaf Blight/','Bacterial leaf blight')\n",
        "rename_image('/content/drive/MyDrive/Internships/PRCP-1001-RiceLeaf/data2/train/Brown Spot/','Brown spot')\n",
        "rename_image('/content/drive/MyDrive/Internships/PRCP-1001-RiceLeaf/data2/train/Leaf Smut/','Leaf smut')"
      ],
      "metadata": {
        "colab": {
          "base_uri": "https://localhost:8080/",
          "height": 345
        },
        "id": "IxE8DslNFc5O",
        "outputId": "191c7151-ced5-4508-c318-80d12af6669d"
      },
      "execution_count": 123,
      "outputs": [
        {
          "output_type": "error",
          "ename": "UnboundLocalError",
          "evalue": "ignored",
          "traceback": [
            "\u001b[0;31m---------------------------------------------------------------------------\u001b[0m",
            "\u001b[0;31mUnboundLocalError\u001b[0m                         Traceback (most recent call last)",
            "\u001b[0;32m<ipython-input-123-f320ddc9b73d>\u001b[0m in \u001b[0;36m<module>\u001b[0;34m\u001b[0m\n\u001b[0;32m----> 1\u001b[0;31m \u001b[0mrename_image\u001b[0m\u001b[0;34m(\u001b[0m\u001b[0;34m'/content/drive/MyDrive/Internships/PRCP-1001-RiceLeaf/data2/train/Bacterial Leaf Blight/'\u001b[0m\u001b[0;34m,\u001b[0m\u001b[0;34m'Bacterial leaf blight'\u001b[0m\u001b[0;34m)\u001b[0m\u001b[0;34m\u001b[0m\u001b[0;34m\u001b[0m\u001b[0m\n\u001b[0m\u001b[1;32m      2\u001b[0m \u001b[0mrename_image\u001b[0m\u001b[0;34m(\u001b[0m\u001b[0;34m'/content/drive/MyDrive/Internships/PRCP-1001-RiceLeaf/data2/train/Brown Spot/'\u001b[0m\u001b[0;34m,\u001b[0m\u001b[0;34m'Brown spot'\u001b[0m\u001b[0;34m)\u001b[0m\u001b[0;34m\u001b[0m\u001b[0;34m\u001b[0m\u001b[0m\n\u001b[1;32m      3\u001b[0m \u001b[0mrename_image\u001b[0m\u001b[0;34m(\u001b[0m\u001b[0;34m'/content/drive/MyDrive/Internships/PRCP-1001-RiceLeaf/data2/train/Leaf Smut/'\u001b[0m\u001b[0;34m,\u001b[0m\u001b[0;34m'Leaf smut'\u001b[0m\u001b[0;34m)\u001b[0m\u001b[0;34m\u001b[0m\u001b[0;34m\u001b[0m\u001b[0m\n",
            "\u001b[0;32m<ipython-input-122-6624830f7dff>\u001b[0m in \u001b[0;36mrename_image\u001b[0;34m(path, name)\u001b[0m\n\u001b[1;32m      8\u001b[0m         \u001b[0mdst\u001b[0m \u001b[0;34m=\u001b[0m \u001b[0mpath\u001b[0m \u001b[0;34m+\u001b[0m \u001b[0mdst\u001b[0m\u001b[0;34m\u001b[0m\u001b[0;34m\u001b[0m\u001b[0m\n\u001b[1;32m      9\u001b[0m         \u001b[0mos\u001b[0m\u001b[0;34m.\u001b[0m\u001b[0mrename\u001b[0m\u001b[0;34m(\u001b[0m\u001b[0msrc\u001b[0m\u001b[0;34m,\u001b[0m\u001b[0mdst\u001b[0m\u001b[0;34m)\u001b[0m\u001b[0;34m\u001b[0m\u001b[0;34m\u001b[0m\u001b[0m\n\u001b[0;32m---> 10\u001b[0;31m     \u001b[0mprint\u001b[0m\u001b[0;34m(\u001b[0m\u001b[0;34m\"image change is :\"\u001b[0m\u001b[0;34m,\u001b[0m\u001b[0mcount\u001b[0m\u001b[0;34m)\u001b[0m\u001b[0;34m\u001b[0m\u001b[0;34m\u001b[0m\u001b[0m\n\u001b[0m\u001b[1;32m     11\u001b[0m \u001b[0;34m\u001b[0m\u001b[0m\n\u001b[1;32m     12\u001b[0m \u001b[0;31m#For rename in subfolder\u001b[0m\u001b[0;34m\u001b[0m\u001b[0;34m\u001b[0m\u001b[0;34m\u001b[0m\u001b[0m\n",
            "\u001b[0;31mUnboundLocalError\u001b[0m: local variable 'count' referenced before assignment"
          ]
        }
      ]
    },
    {
      "cell_type": "code",
      "source": [
        "def move_files(old,new):\n",
        "    for filename in os.listdir(old):\n",
        "        os.replace(str(old) + str(filename), str(new) + str(filename))\n",
        "def file_change(old_path,new_path):\n",
        "    for i, name in enumerate(label):\n",
        "        real_path = old_path + label[i] + '/'\n",
        "        #real_path looks like below\n",
        "        #path-to/train/cat \n",
        "        #path-to/train/dog\n",
        "        move_files(real_path,new_path)\n",
        "    print(\"Suceess\")\n"
      ],
      "metadata": {
        "id": "FKDO7pceJ-yq"
      },
      "execution_count": 154,
      "outputs": []
    },
    {
      "cell_type": "code",
      "source": [
        "file_change(old_path='/content/drive/MyDrive/Internships/PRCP-1001-RiceLeaf/data2/train/',new_path='/content/drive/MyDrive/Internships/PRCP-1001-RiceLeaf/data2/full_data/')"
      ],
      "metadata": {
        "colab": {
          "base_uri": "https://localhost:8080/"
        },
        "id": "MJMApUJrLr1C",
        "outputId": "dffe2201-a017-43e1-8695-28eebe09322e"
      },
      "execution_count": 125,
      "outputs": [
        {
          "output_type": "stream",
          "name": "stdout",
          "text": [
            "Suceess\n"
          ]
        }
      ]
    },
    {
      "cell_type": "code",
      "source": [
        "import pandas as pd\n",
        "\n",
        "#list all file name from that folder\n",
        "filenames=os.listdir(\"/content/drive/MyDrive/Internships/PRCP-1001-RiceLeaf/data2/full_data/\")\n",
        "\n",
        "#store file name\n",
        "categories=[]\n",
        "for f_name in filenames:\n",
        "    category = f_name.split('.')[0] #split name from . \n",
        "    #for i in label:\n",
        "    #if i==category:\n",
        "    categories.append(category)# append filename into categories list\n",
        "\n"
      ],
      "metadata": {
        "id": "yJd6h4xRPRQN"
      },
      "execution_count": 155,
      "outputs": []
    },
    {
      "cell_type": "code",
      "source": [
        "len(categories)"
      ],
      "metadata": {
        "colab": {
          "base_uri": "https://localhost:8080/"
        },
        "id": "JP9MjaLNde_Q",
        "outputId": "e086b709-f002-497a-891c-263179651401"
      },
      "execution_count": 156,
      "outputs": [
        {
          "output_type": "execute_result",
          "data": {
            "text/plain": [
              "119"
            ]
          },
          "metadata": {},
          "execution_count": 156
        }
      ]
    },
    {
      "cell_type": "code",
      "source": [
        "len(filenames)"
      ],
      "metadata": {
        "colab": {
          "base_uri": "https://localhost:8080/"
        },
        "id": "yU00pfPZcfOe",
        "outputId": "3e52d8ea-d9f7-47e2-96b3-8b464ad82d9a"
      },
      "execution_count": 157,
      "outputs": [
        {
          "output_type": "execute_result",
          "data": {
            "text/plain": [
              "119"
            ]
          },
          "metadata": {},
          "execution_count": 157
        }
      ]
    },
    {
      "cell_type": "code",
      "source": [
        "#create pandas DataFrame\n",
        "df=pd.DataFrame({'filename':filenames,'labels':categories})\n",
        "\n",
        "#save to csv\n",
        "df.to_csv('data.csv',index=False)"
      ],
      "metadata": {
        "id": "aSyJGbrYZXDc"
      },
      "execution_count": 158,
      "outputs": []
    },
    {
      "cell_type": "code",
      "source": [
        "df"
      ],
      "metadata": {
        "colab": {
          "base_uri": "https://localhost:8080/",
          "height": 424
        },
        "id": "9Z1i9mxsh-du",
        "outputId": "c03d7486-80e0-45bb-c0aa-08c34cf597c9"
      },
      "execution_count": 159,
      "outputs": [
        {
          "output_type": "execute_result",
          "data": {
            "text/plain": [
              "                          filename                 labels\n",
              "0    Bacterial leaf blight.19.jpeg  Bacterial leaf blight\n",
              "1    Bacterial leaf blight.18.jpeg  Bacterial leaf blight\n",
              "2    Bacterial leaf blight.17.jpeg  Bacterial leaf blight\n",
              "3    Bacterial leaf blight.14.jpeg  Bacterial leaf blight\n",
              "4    Bacterial leaf blight.13.jpeg  Bacterial leaf blight\n",
              "..                             ...                    ...\n",
              "114              Leaf smut.38.jpeg              Leaf smut\n",
              "115             Brown spot.36.jpeg             Brown spot\n",
              "116             Brown spot.35.jpeg             Brown spot\n",
              "117             Brown spot.38.jpeg             Brown spot\n",
              "118             Brown spot.37.jpeg             Brown spot\n",
              "\n",
              "[119 rows x 2 columns]"
            ],
            "text/html": [
              "\n",
              "  <div id=\"df-78a5d14a-f4ad-4e60-926d-5a2388c01374\">\n",
              "    <div class=\"colab-df-container\">\n",
              "      <div>\n",
              "<style scoped>\n",
              "    .dataframe tbody tr th:only-of-type {\n",
              "        vertical-align: middle;\n",
              "    }\n",
              "\n",
              "    .dataframe tbody tr th {\n",
              "        vertical-align: top;\n",
              "    }\n",
              "\n",
              "    .dataframe thead th {\n",
              "        text-align: right;\n",
              "    }\n",
              "</style>\n",
              "<table border=\"1\" class=\"dataframe\">\n",
              "  <thead>\n",
              "    <tr style=\"text-align: right;\">\n",
              "      <th></th>\n",
              "      <th>filename</th>\n",
              "      <th>labels</th>\n",
              "    </tr>\n",
              "  </thead>\n",
              "  <tbody>\n",
              "    <tr>\n",
              "      <th>0</th>\n",
              "      <td>Bacterial leaf blight.19.jpeg</td>\n",
              "      <td>Bacterial leaf blight</td>\n",
              "    </tr>\n",
              "    <tr>\n",
              "      <th>1</th>\n",
              "      <td>Bacterial leaf blight.18.jpeg</td>\n",
              "      <td>Bacterial leaf blight</td>\n",
              "    </tr>\n",
              "    <tr>\n",
              "      <th>2</th>\n",
              "      <td>Bacterial leaf blight.17.jpeg</td>\n",
              "      <td>Bacterial leaf blight</td>\n",
              "    </tr>\n",
              "    <tr>\n",
              "      <th>3</th>\n",
              "      <td>Bacterial leaf blight.14.jpeg</td>\n",
              "      <td>Bacterial leaf blight</td>\n",
              "    </tr>\n",
              "    <tr>\n",
              "      <th>4</th>\n",
              "      <td>Bacterial leaf blight.13.jpeg</td>\n",
              "      <td>Bacterial leaf blight</td>\n",
              "    </tr>\n",
              "    <tr>\n",
              "      <th>...</th>\n",
              "      <td>...</td>\n",
              "      <td>...</td>\n",
              "    </tr>\n",
              "    <tr>\n",
              "      <th>114</th>\n",
              "      <td>Leaf smut.38.jpeg</td>\n",
              "      <td>Leaf smut</td>\n",
              "    </tr>\n",
              "    <tr>\n",
              "      <th>115</th>\n",
              "      <td>Brown spot.36.jpeg</td>\n",
              "      <td>Brown spot</td>\n",
              "    </tr>\n",
              "    <tr>\n",
              "      <th>116</th>\n",
              "      <td>Brown spot.35.jpeg</td>\n",
              "      <td>Brown spot</td>\n",
              "    </tr>\n",
              "    <tr>\n",
              "      <th>117</th>\n",
              "      <td>Brown spot.38.jpeg</td>\n",
              "      <td>Brown spot</td>\n",
              "    </tr>\n",
              "    <tr>\n",
              "      <th>118</th>\n",
              "      <td>Brown spot.37.jpeg</td>\n",
              "      <td>Brown spot</td>\n",
              "    </tr>\n",
              "  </tbody>\n",
              "</table>\n",
              "<p>119 rows × 2 columns</p>\n",
              "</div>\n",
              "      <button class=\"colab-df-convert\" onclick=\"convertToInteractive('df-78a5d14a-f4ad-4e60-926d-5a2388c01374')\"\n",
              "              title=\"Convert this dataframe to an interactive table.\"\n",
              "              style=\"display:none;\">\n",
              "        \n",
              "  <svg xmlns=\"http://www.w3.org/2000/svg\" height=\"24px\"viewBox=\"0 0 24 24\"\n",
              "       width=\"24px\">\n",
              "    <path d=\"M0 0h24v24H0V0z\" fill=\"none\"/>\n",
              "    <path d=\"M18.56 5.44l.94 2.06.94-2.06 2.06-.94-2.06-.94-.94-2.06-.94 2.06-2.06.94zm-11 1L8.5 8.5l.94-2.06 2.06-.94-2.06-.94L8.5 2.5l-.94 2.06-2.06.94zm10 10l.94 2.06.94-2.06 2.06-.94-2.06-.94-.94-2.06-.94 2.06-2.06.94z\"/><path d=\"M17.41 7.96l-1.37-1.37c-.4-.4-.92-.59-1.43-.59-.52 0-1.04.2-1.43.59L10.3 9.45l-7.72 7.72c-.78.78-.78 2.05 0 2.83L4 21.41c.39.39.9.59 1.41.59.51 0 1.02-.2 1.41-.59l7.78-7.78 2.81-2.81c.8-.78.8-2.07 0-2.86zM5.41 20L4 18.59l7.72-7.72 1.47 1.35L5.41 20z\"/>\n",
              "  </svg>\n",
              "      </button>\n",
              "      \n",
              "  <style>\n",
              "    .colab-df-container {\n",
              "      display:flex;\n",
              "      flex-wrap:wrap;\n",
              "      gap: 12px;\n",
              "    }\n",
              "\n",
              "    .colab-df-convert {\n",
              "      background-color: #E8F0FE;\n",
              "      border: none;\n",
              "      border-radius: 50%;\n",
              "      cursor: pointer;\n",
              "      display: none;\n",
              "      fill: #1967D2;\n",
              "      height: 32px;\n",
              "      padding: 0 0 0 0;\n",
              "      width: 32px;\n",
              "    }\n",
              "\n",
              "    .colab-df-convert:hover {\n",
              "      background-color: #E2EBFA;\n",
              "      box-shadow: 0px 1px 2px rgba(60, 64, 67, 0.3), 0px 1px 3px 1px rgba(60, 64, 67, 0.15);\n",
              "      fill: #174EA6;\n",
              "    }\n",
              "\n",
              "    [theme=dark] .colab-df-convert {\n",
              "      background-color: #3B4455;\n",
              "      fill: #D2E3FC;\n",
              "    }\n",
              "\n",
              "    [theme=dark] .colab-df-convert:hover {\n",
              "      background-color: #434B5C;\n",
              "      box-shadow: 0px 1px 3px 1px rgba(0, 0, 0, 0.15);\n",
              "      filter: drop-shadow(0px 1px 2px rgba(0, 0, 0, 0.3));\n",
              "      fill: #FFFFFF;\n",
              "    }\n",
              "  </style>\n",
              "\n",
              "      <script>\n",
              "        const buttonEl =\n",
              "          document.querySelector('#df-78a5d14a-f4ad-4e60-926d-5a2388c01374 button.colab-df-convert');\n",
              "        buttonEl.style.display =\n",
              "          google.colab.kernel.accessAllowed ? 'block' : 'none';\n",
              "\n",
              "        async function convertToInteractive(key) {\n",
              "          const element = document.querySelector('#df-78a5d14a-f4ad-4e60-926d-5a2388c01374');\n",
              "          const dataTable =\n",
              "            await google.colab.kernel.invokeFunction('convertToInteractive',\n",
              "                                                     [key], {});\n",
              "          if (!dataTable) return;\n",
              "\n",
              "          const docLinkHtml = 'Like what you see? Visit the ' +\n",
              "            '<a target=\"_blank\" href=https://colab.research.google.com/notebooks/data_table.ipynb>data table notebook</a>'\n",
              "            + ' to learn more about interactive tables.';\n",
              "          element.innerHTML = '';\n",
              "          dataTable['output_type'] = 'display_data';\n",
              "          await google.colab.output.renderOutput(dataTable, element);\n",
              "          const docLink = document.createElement('div');\n",
              "          docLink.innerHTML = docLinkHtml;\n",
              "          element.appendChild(docLink);\n",
              "        }\n",
              "      </script>\n",
              "    </div>\n",
              "  </div>\n",
              "  "
            ]
          },
          "metadata": {},
          "execution_count": 159
        }
      ]
    },
    {
      "cell_type": "code",
      "source": [
        "#Import tools\n",
        "import tensorflow as tf\n",
        "import tensorflow_hub as hub\n",
        "import pandas as pd\n",
        "import numpy as np\n",
        "\n",
        "#Read csv file\n",
        "labels_csv = pd.read_csv(\"/content/data.csv\")\n",
        "#The above code generates pandas DataFrame from the CSV file.\n",
        "\n",
        "#Make full path\n",
        "filenames = [\"path-to-our-new-full-image-folder/\" + fname for fname in labels_csv[\"filename\"]]\n",
        "\n",
        "#Takes labels\n",
        "labels = labels_csv[\"labels\"].to_numpy() #converts our category into a numpy array.\n",
        "\n",
        "#Convert into unique labels\n",
        "unique_category = np.unique(labels)\n",
        "boolean_labels = [label == unique_category for label in labels]"
      ],
      "metadata": {
        "id": "UcFBQxmWqEo3"
      },
      "execution_count": 160,
      "outputs": []
    },
    {
      "cell_type": "code",
      "source": [
        "labels_csv[\"labels\"].to_numpy()"
      ],
      "metadata": {
        "colab": {
          "base_uri": "https://localhost:8080/"
        },
        "id": "UKaM64rwAbhH",
        "outputId": "2c194c13-248b-4c64-f80c-2963e4e7827b"
      },
      "execution_count": 161,
      "outputs": [
        {
          "output_type": "execute_result",
          "data": {
            "text/plain": [
              "array(['Bacterial leaf blight', 'Bacterial leaf blight',\n",
              "       'Bacterial leaf blight', 'Bacterial leaf blight',\n",
              "       'Bacterial leaf blight', 'Bacterial leaf blight',\n",
              "       'Bacterial leaf blight', 'Bacterial leaf blight',\n",
              "       'Bacterial leaf blight', 'Bacterial leaf blight',\n",
              "       'Bacterial leaf blight', 'Bacterial leaf blight',\n",
              "       'Bacterial leaf blight', 'Bacterial leaf blight',\n",
              "       'Bacterial leaf blight', 'Bacterial leaf blight',\n",
              "       'Bacterial leaf blight', 'Bacterial leaf blight',\n",
              "       'Bacterial leaf blight', 'Bacterial leaf blight',\n",
              "       'Bacterial leaf blight', 'Bacterial leaf blight',\n",
              "       'Bacterial leaf blight', 'Bacterial leaf blight',\n",
              "       'Bacterial leaf blight', 'Bacterial leaf blight',\n",
              "       'Bacterial leaf blight', 'Bacterial leaf blight',\n",
              "       'Bacterial leaf blight', 'Bacterial leaf blight', 'Brown spot',\n",
              "       'Brown spot', 'Brown spot', 'Brown spot', 'Brown spot',\n",
              "       'Brown spot', 'Brown spot', 'Brown spot', 'Brown spot',\n",
              "       'Brown spot', 'Brown spot', 'Brown spot', 'Brown spot',\n",
              "       'Brown spot', 'Brown spot', 'Brown spot', 'Brown spot',\n",
              "       'Brown spot', 'Bacterial leaf blight', 'Brown spot',\n",
              "       'Bacterial leaf blight', 'Bacterial leaf blight',\n",
              "       'Bacterial leaf blight', 'Bacterial leaf blight', 'Leaf smut',\n",
              "       'Leaf smut', 'Brown spot', 'Brown spot', 'Brown spot', 'Leaf smut',\n",
              "       'Brown spot', 'Brown spot', 'Brown spot', 'Brown spot',\n",
              "       'Brown spot', 'Brown spot', 'Brown spot', 'Brown spot',\n",
              "       'Brown spot', 'Brown spot', 'Brown spot', 'Brown spot',\n",
              "       'Brown spot', 'Leaf smut', 'Leaf smut', 'Leaf smut', 'Leaf smut',\n",
              "       'Leaf smut', 'Leaf smut', 'Leaf smut', 'Leaf smut', 'Leaf smut',\n",
              "       'Leaf smut', 'Leaf smut', 'Leaf smut', 'Leaf smut', 'Leaf smut',\n",
              "       'Leaf smut', 'Leaf smut', 'Leaf smut', 'Leaf smut', 'Leaf smut',\n",
              "       'Leaf smut', 'Leaf smut', 'Leaf smut', 'Leaf smut', 'Leaf smut',\n",
              "       'Leaf smut', 'Leaf smut', 'Leaf smut', 'Leaf smut', 'Leaf smut',\n",
              "       'Leaf smut', 'Leaf smut', 'Leaf smut', 'Brown spot',\n",
              "       'Bacterial leaf blight', 'Bacterial leaf blight',\n",
              "       'Bacterial leaf blight', 'Bacterial leaf blight',\n",
              "       'Bacterial leaf blight', 'Leaf smut', 'Leaf smut', 'Leaf smut',\n",
              "       'Leaf smut', 'Brown spot', 'Brown spot', 'Brown spot',\n",
              "       'Brown spot'], dtype=object)"
            ]
          },
          "metadata": {},
          "execution_count": 161
        }
      ]
    },
    {
      "cell_type": "code",
      "source": [
        "labels"
      ],
      "metadata": {
        "colab": {
          "base_uri": "https://localhost:8080/"
        },
        "id": "4DgSDYEs-qOQ",
        "outputId": "66f2ca54-e034-4151-b84d-17e8a1207148"
      },
      "execution_count": 162,
      "outputs": [
        {
          "output_type": "execute_result",
          "data": {
            "text/plain": [
              "array(['Bacterial leaf blight', 'Bacterial leaf blight',\n",
              "       'Bacterial leaf blight', 'Bacterial leaf blight',\n",
              "       'Bacterial leaf blight', 'Bacterial leaf blight',\n",
              "       'Bacterial leaf blight', 'Bacterial leaf blight',\n",
              "       'Bacterial leaf blight', 'Bacterial leaf blight',\n",
              "       'Bacterial leaf blight', 'Bacterial leaf blight',\n",
              "       'Bacterial leaf blight', 'Bacterial leaf blight',\n",
              "       'Bacterial leaf blight', 'Bacterial leaf blight',\n",
              "       'Bacterial leaf blight', 'Bacterial leaf blight',\n",
              "       'Bacterial leaf blight', 'Bacterial leaf blight',\n",
              "       'Bacterial leaf blight', 'Bacterial leaf blight',\n",
              "       'Bacterial leaf blight', 'Bacterial leaf blight',\n",
              "       'Bacterial leaf blight', 'Bacterial leaf blight',\n",
              "       'Bacterial leaf blight', 'Bacterial leaf blight',\n",
              "       'Bacterial leaf blight', 'Bacterial leaf blight', 'Brown spot',\n",
              "       'Brown spot', 'Brown spot', 'Brown spot', 'Brown spot',\n",
              "       'Brown spot', 'Brown spot', 'Brown spot', 'Brown spot',\n",
              "       'Brown spot', 'Brown spot', 'Brown spot', 'Brown spot',\n",
              "       'Brown spot', 'Brown spot', 'Brown spot', 'Brown spot',\n",
              "       'Brown spot', 'Bacterial leaf blight', 'Brown spot',\n",
              "       'Bacterial leaf blight', 'Bacterial leaf blight',\n",
              "       'Bacterial leaf blight', 'Bacterial leaf blight', 'Leaf smut',\n",
              "       'Leaf smut', 'Brown spot', 'Brown spot', 'Brown spot', 'Leaf smut',\n",
              "       'Brown spot', 'Brown spot', 'Brown spot', 'Brown spot',\n",
              "       'Brown spot', 'Brown spot', 'Brown spot', 'Brown spot',\n",
              "       'Brown spot', 'Brown spot', 'Brown spot', 'Brown spot',\n",
              "       'Brown spot', 'Leaf smut', 'Leaf smut', 'Leaf smut', 'Leaf smut',\n",
              "       'Leaf smut', 'Leaf smut', 'Leaf smut', 'Leaf smut', 'Leaf smut',\n",
              "       'Leaf smut', 'Leaf smut', 'Leaf smut', 'Leaf smut', 'Leaf smut',\n",
              "       'Leaf smut', 'Leaf smut', 'Leaf smut', 'Leaf smut', 'Leaf smut',\n",
              "       'Leaf smut', 'Leaf smut', 'Leaf smut', 'Leaf smut', 'Leaf smut',\n",
              "       'Leaf smut', 'Leaf smut', 'Leaf smut', 'Leaf smut', 'Leaf smut',\n",
              "       'Leaf smut', 'Leaf smut', 'Leaf smut', 'Brown spot',\n",
              "       'Bacterial leaf blight', 'Bacterial leaf blight',\n",
              "       'Bacterial leaf blight', 'Bacterial leaf blight',\n",
              "       'Bacterial leaf blight', 'Leaf smut', 'Leaf smut', 'Leaf smut',\n",
              "       'Leaf smut', 'Brown spot', 'Brown spot', 'Brown spot',\n",
              "       'Brown spot'], dtype=object)"
            ]
          },
          "metadata": {},
          "execution_count": 162
        }
      ]
    },
    {
      "cell_type": "code",
      "source": [
        "filenames"
      ],
      "metadata": {
        "colab": {
          "base_uri": "https://localhost:8080/"
        },
        "id": "GMvMAVsl6uCY",
        "outputId": "4072f0fe-8603-4a2b-a447-eba73712f6c6"
      },
      "execution_count": 163,
      "outputs": [
        {
          "output_type": "execute_result",
          "data": {
            "text/plain": [
              "['path-to-our-new-full-image-folder/Bacterial leaf blight.19.jpeg',\n",
              " 'path-to-our-new-full-image-folder/Bacterial leaf blight.18.jpeg',\n",
              " 'path-to-our-new-full-image-folder/Bacterial leaf blight.17.jpeg',\n",
              " 'path-to-our-new-full-image-folder/Bacterial leaf blight.14.jpeg',\n",
              " 'path-to-our-new-full-image-folder/Bacterial leaf blight.13.jpeg',\n",
              " 'path-to-our-new-full-image-folder/Bacterial leaf blight.12.jpeg',\n",
              " 'path-to-our-new-full-image-folder/Bacterial leaf blight.16.jpeg',\n",
              " 'path-to-our-new-full-image-folder/Bacterial leaf blight.11.jpeg',\n",
              " 'path-to-our-new-full-image-folder/Bacterial leaf blight.10.jpeg',\n",
              " 'path-to-our-new-full-image-folder/Bacterial leaf blight.1.jpeg',\n",
              " 'path-to-our-new-full-image-folder/Bacterial leaf blight.15.jpeg',\n",
              " 'path-to-our-new-full-image-folder/Bacterial leaf blight.0.jpeg',\n",
              " 'path-to-our-new-full-image-folder/Bacterial leaf blight.34.jpeg',\n",
              " 'path-to-our-new-full-image-folder/Bacterial leaf blight.33.jpeg',\n",
              " 'path-to-our-new-full-image-folder/Bacterial leaf blight.7.jpeg',\n",
              " 'path-to-our-new-full-image-folder/Bacterial leaf blight.32.jpeg',\n",
              " 'path-to-our-new-full-image-folder/Bacterial leaf blight.31.jpeg',\n",
              " 'path-to-our-new-full-image-folder/Bacterial leaf blight.30.jpeg',\n",
              " 'path-to-our-new-full-image-folder/Bacterial leaf blight.3.jpeg',\n",
              " 'path-to-our-new-full-image-folder/Bacterial leaf blight.29.jpeg',\n",
              " 'path-to-our-new-full-image-folder/Bacterial leaf blight.25.jpeg',\n",
              " 'path-to-our-new-full-image-folder/Bacterial leaf blight.28.jpeg',\n",
              " 'path-to-our-new-full-image-folder/Bacterial leaf blight.24.jpeg',\n",
              " 'path-to-our-new-full-image-folder/Bacterial leaf blight.23.jpeg',\n",
              " 'path-to-our-new-full-image-folder/Bacterial leaf blight.22.jpeg',\n",
              " 'path-to-our-new-full-image-folder/Bacterial leaf blight.21.jpeg',\n",
              " 'path-to-our-new-full-image-folder/Bacterial leaf blight.27.jpeg',\n",
              " 'path-to-our-new-full-image-folder/Bacterial leaf blight.20.jpeg',\n",
              " 'path-to-our-new-full-image-folder/Bacterial leaf blight.2.jpeg',\n",
              " 'path-to-our-new-full-image-folder/Bacterial leaf blight.26.jpeg',\n",
              " 'path-to-our-new-full-image-folder/Brown spot.24.jpeg',\n",
              " 'path-to-our-new-full-image-folder/Brown spot.22.jpeg',\n",
              " 'path-to-our-new-full-image-folder/Brown spot.20.jpeg',\n",
              " 'path-to-our-new-full-image-folder/Brown spot.21.jpeg',\n",
              " 'path-to-our-new-full-image-folder/Brown spot.28.jpeg',\n",
              " 'path-to-our-new-full-image-folder/Brown spot.23.jpeg',\n",
              " 'path-to-our-new-full-image-folder/Brown spot.2.jpeg',\n",
              " 'path-to-our-new-full-image-folder/Brown spot.19.jpeg',\n",
              " 'path-to-our-new-full-image-folder/Brown spot.18.jpeg',\n",
              " 'path-to-our-new-full-image-folder/Brown spot.13.jpeg',\n",
              " 'path-to-our-new-full-image-folder/Brown spot.15.jpeg',\n",
              " 'path-to-our-new-full-image-folder/Brown spot.14.jpeg',\n",
              " 'path-to-our-new-full-image-folder/Brown spot.16.jpeg',\n",
              " 'path-to-our-new-full-image-folder/Brown spot.12.jpeg',\n",
              " 'path-to-our-new-full-image-folder/Brown spot.10.jpeg',\n",
              " 'path-to-our-new-full-image-folder/Brown spot.11.jpeg',\n",
              " 'path-to-our-new-full-image-folder/Brown spot.17.jpeg',\n",
              " 'path-to-our-new-full-image-folder/Brown spot.1.jpeg',\n",
              " 'path-to-our-new-full-image-folder/Bacterial leaf blight.9.jpeg',\n",
              " 'path-to-our-new-full-image-folder/Brown spot.0.jpeg',\n",
              " 'path-to-our-new-full-image-folder/Bacterial leaf blight.6.jpeg',\n",
              " 'path-to-our-new-full-image-folder/Bacterial leaf blight.8.jpeg',\n",
              " 'path-to-our-new-full-image-folder/Bacterial leaf blight.5.jpeg',\n",
              " 'path-to-our-new-full-image-folder/Bacterial leaf blight.4.jpeg',\n",
              " 'path-to-our-new-full-image-folder/Leaf smut.10.jpeg',\n",
              " 'path-to-our-new-full-image-folder/Leaf smut.1.jpeg',\n",
              " 'path-to-our-new-full-image-folder/Brown spot.5.jpeg',\n",
              " 'path-to-our-new-full-image-folder/Brown spot.7.jpeg',\n",
              " 'path-to-our-new-full-image-folder/Brown spot.6.jpeg',\n",
              " 'path-to-our-new-full-image-folder/Leaf smut.0.jpeg',\n",
              " 'path-to-our-new-full-image-folder/Brown spot.4.jpeg',\n",
              " 'path-to-our-new-full-image-folder/Brown spot.34.jpeg',\n",
              " 'path-to-our-new-full-image-folder/Brown spot.9.jpeg',\n",
              " 'path-to-our-new-full-image-folder/Brown spot.33.jpeg',\n",
              " 'path-to-our-new-full-image-folder/Brown spot.32.jpeg',\n",
              " 'path-to-our-new-full-image-folder/Brown spot.31.jpeg',\n",
              " 'path-to-our-new-full-image-folder/Brown spot.8.jpeg',\n",
              " 'path-to-our-new-full-image-folder/Brown spot.30.jpeg',\n",
              " 'path-to-our-new-full-image-folder/Brown spot.3.jpeg',\n",
              " 'path-to-our-new-full-image-folder/Brown spot.27.jpeg',\n",
              " 'path-to-our-new-full-image-folder/Brown spot.26.jpeg',\n",
              " 'path-to-our-new-full-image-folder/Brown spot.29.jpeg',\n",
              " 'path-to-our-new-full-image-folder/Brown spot.25.jpeg',\n",
              " 'path-to-our-new-full-image-folder/Leaf smut.27.jpeg',\n",
              " 'path-to-our-new-full-image-folder/Leaf smut.32.jpeg',\n",
              " 'path-to-our-new-full-image-folder/Leaf smut.26.jpeg',\n",
              " 'path-to-our-new-full-image-folder/Leaf smut.31.jpeg',\n",
              " 'path-to-our-new-full-image-folder/Leaf smut.25.jpeg',\n",
              " 'path-to-our-new-full-image-folder/Leaf smut.30.jpeg',\n",
              " 'path-to-our-new-full-image-folder/Leaf smut.24.jpeg',\n",
              " 'path-to-our-new-full-image-folder/Leaf smut.23.jpeg',\n",
              " 'path-to-our-new-full-image-folder/Leaf smut.3.jpeg',\n",
              " 'path-to-our-new-full-image-folder/Leaf smut.22.jpeg',\n",
              " 'path-to-our-new-full-image-folder/Leaf smut.21.jpeg',\n",
              " 'path-to-our-new-full-image-folder/Leaf smut.18.jpeg',\n",
              " 'path-to-our-new-full-image-folder/Leaf smut.20.jpeg',\n",
              " 'path-to-our-new-full-image-folder/Leaf smut.17.jpeg',\n",
              " 'path-to-our-new-full-image-folder/Leaf smut.16.jpeg',\n",
              " 'path-to-our-new-full-image-folder/Leaf smut.2.jpeg',\n",
              " 'path-to-our-new-full-image-folder/Leaf smut.15.jpeg',\n",
              " 'path-to-our-new-full-image-folder/Leaf smut.14.jpeg',\n",
              " 'path-to-our-new-full-image-folder/Leaf smut.13.jpeg',\n",
              " 'path-to-our-new-full-image-folder/Leaf smut.12.jpeg',\n",
              " 'path-to-our-new-full-image-folder/Leaf smut.11.jpeg',\n",
              " 'path-to-our-new-full-image-folder/Leaf smut.19.jpeg',\n",
              " 'path-to-our-new-full-image-folder/Leaf smut.9.jpeg',\n",
              " 'path-to-our-new-full-image-folder/Leaf smut.7.jpeg',\n",
              " 'path-to-our-new-full-image-folder/Leaf smut.8.jpeg',\n",
              " 'path-to-our-new-full-image-folder/Leaf smut.6.jpeg',\n",
              " 'path-to-our-new-full-image-folder/Leaf smut.5.jpeg',\n",
              " 'path-to-our-new-full-image-folder/Leaf smut.4.jpeg',\n",
              " 'path-to-our-new-full-image-folder/Leaf smut.34.jpeg',\n",
              " 'path-to-our-new-full-image-folder/Leaf smut.33.jpeg',\n",
              " 'path-to-our-new-full-image-folder/Leaf smut.28.jpeg',\n",
              " 'path-to-our-new-full-image-folder/Leaf smut.29.jpeg',\n",
              " 'path-to-our-new-full-image-folder/Brown spot.39.jpeg',\n",
              " 'path-to-our-new-full-image-folder/Bacterial leaf blight.35.jpeg',\n",
              " 'path-to-our-new-full-image-folder/Bacterial leaf blight.36.jpeg',\n",
              " 'path-to-our-new-full-image-folder/Bacterial leaf blight.37.jpeg',\n",
              " 'path-to-our-new-full-image-folder/Bacterial leaf blight.38.jpeg',\n",
              " 'path-to-our-new-full-image-folder/Bacterial leaf blight.39.jpeg',\n",
              " 'path-to-our-new-full-image-folder/Leaf smut.35.jpeg',\n",
              " 'path-to-our-new-full-image-folder/Leaf smut.36.jpeg',\n",
              " 'path-to-our-new-full-image-folder/Leaf smut.37.jpeg',\n",
              " 'path-to-our-new-full-image-folder/Leaf smut.38.jpeg',\n",
              " 'path-to-our-new-full-image-folder/Brown spot.36.jpeg',\n",
              " 'path-to-our-new-full-image-folder/Brown spot.35.jpeg',\n",
              " 'path-to-our-new-full-image-folder/Brown spot.38.jpeg',\n",
              " 'path-to-our-new-full-image-folder/Brown spot.37.jpeg']"
            ]
          },
          "metadata": {},
          "execution_count": 163
        }
      ]
    },
    {
      "cell_type": "code",
      "source": [
        "IMG_SIZE = 224\n",
        "\n",
        "# Function\n",
        "def process_image(image_path, image_size=IMG_SIZE):\n",
        "  \"\"\"\n",
        "  Takes an image file path and turns the image into a Tensor.\n",
        "  \"\"\"\n",
        "  # Read in an image file\n",
        "  image = tf.io.read_file(image_path)\n",
        "  # Turn the jpg image into numerical Tensor with 3 colour channel(RGB)\n",
        "  image = tf.image.decode_jpeg(image,channels=3)\n",
        "  # Convert the color channel values to (0-1) values\n",
        "  image = tf.image.convert_image_dtype(image,tf.float32)\n",
        "  # Resize the image to (224,224)\n",
        "  image = tf.image.resize(image, size=[image_size,image_size])\n",
        "\n",
        "  return image"
      ],
      "metadata": {
        "id": "dpVx7bOMiGNu"
      },
      "execution_count": 164,
      "outputs": []
    },
    {
      "cell_type": "code",
      "source": [
        "def get_image_lable(image_path,label):\n",
        "  \"\"\"\n",
        "  Takes an image file path name and the label,\n",
        "  processes the image and return a tuple (image, label).\n",
        "  \"\"\"\n",
        "  image = process_image(image_path)\n",
        "\n",
        "  return image, label\n",
        "  \n",
        " \n",
        "BATCH_SIZE = 32\n",
        "\n",
        "# Function to convert data into batches\n",
        "def create_data_batches(X,y=None, batch_size=BATCH_SIZE,valid_data=False):\n",
        "  \"\"\"\n",
        "  Creates batches of data of image (X) and label (y) pairs.\n",
        "  Shuffle the data if it's training data but doesn't shuffle if it's validation data.\n",
        "  \"\"\"\n",
        "  # If data is valid dataset (NO SHUFFLE)\n",
        "  if valid_data:\n",
        "    print(\"Creating valid data batches.........\")\n",
        "    data = tf.data.Dataset.from_tensor_slices((tf.constant(X),\n",
        "                                               tf.constant(y)))\n",
        "    data_batch = data.map(get_image_lable).batch(batch_size)\n",
        "    return data_batch\n",
        "\n",
        "  else:\n",
        "    print(\"Creating train data batches.........\")\n",
        "    # Turn filepaths and labels into Tensors\n",
        "    data = tf.data.Dataset.from_tensor_slices((tf.constant(X),\n",
        "                                               tf.constant(y)))\n",
        "    # Shuffling pathname and labels before mapping image processor fun\n",
        "    data = data.shuffle(buffer_size=len(X))\n",
        "    data_batch = data.map(get_image_lable).batch(batch_size)\n",
        "\n",
        "    return data_batch"
      ],
      "metadata": {
        "id": "rvVGB12nkqr1"
      },
      "execution_count": 136,
      "outputs": []
    },
    {
      "cell_type": "code",
      "source": [
        "X = filenames\n",
        "x=np.array(X)\n",
        "y = labels_csv[\"labels\"]\n",
        "y = np.array(y)\n"
      ],
      "metadata": {
        "id": "QEM0Lrm4lhzi"
      },
      "execution_count": 189,
      "outputs": []
    },
    {
      "cell_type": "code",
      "source": [
        "X"
      ],
      "metadata": {
        "colab": {
          "base_uri": "https://localhost:8080/"
        },
        "id": "NZ1PsSa4rGTJ",
        "outputId": "6b11ae83-a00b-4a84-f633-cdc668c6e6f5"
      },
      "execution_count": 190,
      "outputs": [
        {
          "output_type": "execute_result",
          "data": {
            "text/plain": [
              "['path-to-our-new-full-image-folder/Bacterial leaf blight.19.jpeg',\n",
              " 'path-to-our-new-full-image-folder/Bacterial leaf blight.18.jpeg',\n",
              " 'path-to-our-new-full-image-folder/Bacterial leaf blight.17.jpeg',\n",
              " 'path-to-our-new-full-image-folder/Bacterial leaf blight.14.jpeg',\n",
              " 'path-to-our-new-full-image-folder/Bacterial leaf blight.13.jpeg',\n",
              " 'path-to-our-new-full-image-folder/Bacterial leaf blight.12.jpeg',\n",
              " 'path-to-our-new-full-image-folder/Bacterial leaf blight.16.jpeg',\n",
              " 'path-to-our-new-full-image-folder/Bacterial leaf blight.11.jpeg',\n",
              " 'path-to-our-new-full-image-folder/Bacterial leaf blight.10.jpeg',\n",
              " 'path-to-our-new-full-image-folder/Bacterial leaf blight.1.jpeg',\n",
              " 'path-to-our-new-full-image-folder/Bacterial leaf blight.15.jpeg',\n",
              " 'path-to-our-new-full-image-folder/Bacterial leaf blight.0.jpeg',\n",
              " 'path-to-our-new-full-image-folder/Bacterial leaf blight.34.jpeg',\n",
              " 'path-to-our-new-full-image-folder/Bacterial leaf blight.33.jpeg',\n",
              " 'path-to-our-new-full-image-folder/Bacterial leaf blight.7.jpeg',\n",
              " 'path-to-our-new-full-image-folder/Bacterial leaf blight.32.jpeg',\n",
              " 'path-to-our-new-full-image-folder/Bacterial leaf blight.31.jpeg',\n",
              " 'path-to-our-new-full-image-folder/Bacterial leaf blight.30.jpeg',\n",
              " 'path-to-our-new-full-image-folder/Bacterial leaf blight.3.jpeg',\n",
              " 'path-to-our-new-full-image-folder/Bacterial leaf blight.29.jpeg',\n",
              " 'path-to-our-new-full-image-folder/Bacterial leaf blight.25.jpeg',\n",
              " 'path-to-our-new-full-image-folder/Bacterial leaf blight.28.jpeg',\n",
              " 'path-to-our-new-full-image-folder/Bacterial leaf blight.24.jpeg',\n",
              " 'path-to-our-new-full-image-folder/Bacterial leaf blight.23.jpeg',\n",
              " 'path-to-our-new-full-image-folder/Bacterial leaf blight.22.jpeg',\n",
              " 'path-to-our-new-full-image-folder/Bacterial leaf blight.21.jpeg',\n",
              " 'path-to-our-new-full-image-folder/Bacterial leaf blight.27.jpeg',\n",
              " 'path-to-our-new-full-image-folder/Bacterial leaf blight.20.jpeg',\n",
              " 'path-to-our-new-full-image-folder/Bacterial leaf blight.2.jpeg',\n",
              " 'path-to-our-new-full-image-folder/Bacterial leaf blight.26.jpeg',\n",
              " 'path-to-our-new-full-image-folder/Brown spot.24.jpeg',\n",
              " 'path-to-our-new-full-image-folder/Brown spot.22.jpeg',\n",
              " 'path-to-our-new-full-image-folder/Brown spot.20.jpeg',\n",
              " 'path-to-our-new-full-image-folder/Brown spot.21.jpeg',\n",
              " 'path-to-our-new-full-image-folder/Brown spot.28.jpeg',\n",
              " 'path-to-our-new-full-image-folder/Brown spot.23.jpeg',\n",
              " 'path-to-our-new-full-image-folder/Brown spot.2.jpeg',\n",
              " 'path-to-our-new-full-image-folder/Brown spot.19.jpeg',\n",
              " 'path-to-our-new-full-image-folder/Brown spot.18.jpeg',\n",
              " 'path-to-our-new-full-image-folder/Brown spot.13.jpeg',\n",
              " 'path-to-our-new-full-image-folder/Brown spot.15.jpeg',\n",
              " 'path-to-our-new-full-image-folder/Brown spot.14.jpeg',\n",
              " 'path-to-our-new-full-image-folder/Brown spot.16.jpeg',\n",
              " 'path-to-our-new-full-image-folder/Brown spot.12.jpeg',\n",
              " 'path-to-our-new-full-image-folder/Brown spot.10.jpeg',\n",
              " 'path-to-our-new-full-image-folder/Brown spot.11.jpeg',\n",
              " 'path-to-our-new-full-image-folder/Brown spot.17.jpeg',\n",
              " 'path-to-our-new-full-image-folder/Brown spot.1.jpeg',\n",
              " 'path-to-our-new-full-image-folder/Bacterial leaf blight.9.jpeg',\n",
              " 'path-to-our-new-full-image-folder/Brown spot.0.jpeg',\n",
              " 'path-to-our-new-full-image-folder/Bacterial leaf blight.6.jpeg',\n",
              " 'path-to-our-new-full-image-folder/Bacterial leaf blight.8.jpeg',\n",
              " 'path-to-our-new-full-image-folder/Bacterial leaf blight.5.jpeg',\n",
              " 'path-to-our-new-full-image-folder/Bacterial leaf blight.4.jpeg',\n",
              " 'path-to-our-new-full-image-folder/Leaf smut.10.jpeg',\n",
              " 'path-to-our-new-full-image-folder/Leaf smut.1.jpeg',\n",
              " 'path-to-our-new-full-image-folder/Brown spot.5.jpeg',\n",
              " 'path-to-our-new-full-image-folder/Brown spot.7.jpeg',\n",
              " 'path-to-our-new-full-image-folder/Brown spot.6.jpeg',\n",
              " 'path-to-our-new-full-image-folder/Leaf smut.0.jpeg',\n",
              " 'path-to-our-new-full-image-folder/Brown spot.4.jpeg',\n",
              " 'path-to-our-new-full-image-folder/Brown spot.34.jpeg',\n",
              " 'path-to-our-new-full-image-folder/Brown spot.9.jpeg',\n",
              " 'path-to-our-new-full-image-folder/Brown spot.33.jpeg',\n",
              " 'path-to-our-new-full-image-folder/Brown spot.32.jpeg',\n",
              " 'path-to-our-new-full-image-folder/Brown spot.31.jpeg',\n",
              " 'path-to-our-new-full-image-folder/Brown spot.8.jpeg',\n",
              " 'path-to-our-new-full-image-folder/Brown spot.30.jpeg',\n",
              " 'path-to-our-new-full-image-folder/Brown spot.3.jpeg',\n",
              " 'path-to-our-new-full-image-folder/Brown spot.27.jpeg',\n",
              " 'path-to-our-new-full-image-folder/Brown spot.26.jpeg',\n",
              " 'path-to-our-new-full-image-folder/Brown spot.29.jpeg',\n",
              " 'path-to-our-new-full-image-folder/Brown spot.25.jpeg',\n",
              " 'path-to-our-new-full-image-folder/Leaf smut.27.jpeg',\n",
              " 'path-to-our-new-full-image-folder/Leaf smut.32.jpeg',\n",
              " 'path-to-our-new-full-image-folder/Leaf smut.26.jpeg',\n",
              " 'path-to-our-new-full-image-folder/Leaf smut.31.jpeg',\n",
              " 'path-to-our-new-full-image-folder/Leaf smut.25.jpeg',\n",
              " 'path-to-our-new-full-image-folder/Leaf smut.30.jpeg',\n",
              " 'path-to-our-new-full-image-folder/Leaf smut.24.jpeg',\n",
              " 'path-to-our-new-full-image-folder/Leaf smut.23.jpeg',\n",
              " 'path-to-our-new-full-image-folder/Leaf smut.3.jpeg',\n",
              " 'path-to-our-new-full-image-folder/Leaf smut.22.jpeg',\n",
              " 'path-to-our-new-full-image-folder/Leaf smut.21.jpeg',\n",
              " 'path-to-our-new-full-image-folder/Leaf smut.18.jpeg',\n",
              " 'path-to-our-new-full-image-folder/Leaf smut.20.jpeg',\n",
              " 'path-to-our-new-full-image-folder/Leaf smut.17.jpeg',\n",
              " 'path-to-our-new-full-image-folder/Leaf smut.16.jpeg',\n",
              " 'path-to-our-new-full-image-folder/Leaf smut.2.jpeg',\n",
              " 'path-to-our-new-full-image-folder/Leaf smut.15.jpeg',\n",
              " 'path-to-our-new-full-image-folder/Leaf smut.14.jpeg',\n",
              " 'path-to-our-new-full-image-folder/Leaf smut.13.jpeg',\n",
              " 'path-to-our-new-full-image-folder/Leaf smut.12.jpeg',\n",
              " 'path-to-our-new-full-image-folder/Leaf smut.11.jpeg',\n",
              " 'path-to-our-new-full-image-folder/Leaf smut.19.jpeg',\n",
              " 'path-to-our-new-full-image-folder/Leaf smut.9.jpeg',\n",
              " 'path-to-our-new-full-image-folder/Leaf smut.7.jpeg',\n",
              " 'path-to-our-new-full-image-folder/Leaf smut.8.jpeg',\n",
              " 'path-to-our-new-full-image-folder/Leaf smut.6.jpeg',\n",
              " 'path-to-our-new-full-image-folder/Leaf smut.5.jpeg',\n",
              " 'path-to-our-new-full-image-folder/Leaf smut.4.jpeg',\n",
              " 'path-to-our-new-full-image-folder/Leaf smut.34.jpeg',\n",
              " 'path-to-our-new-full-image-folder/Leaf smut.33.jpeg',\n",
              " 'path-to-our-new-full-image-folder/Leaf smut.28.jpeg',\n",
              " 'path-to-our-new-full-image-folder/Leaf smut.29.jpeg',\n",
              " 'path-to-our-new-full-image-folder/Brown spot.39.jpeg',\n",
              " 'path-to-our-new-full-image-folder/Bacterial leaf blight.35.jpeg',\n",
              " 'path-to-our-new-full-image-folder/Bacterial leaf blight.36.jpeg',\n",
              " 'path-to-our-new-full-image-folder/Bacterial leaf blight.37.jpeg',\n",
              " 'path-to-our-new-full-image-folder/Bacterial leaf blight.38.jpeg',\n",
              " 'path-to-our-new-full-image-folder/Bacterial leaf blight.39.jpeg',\n",
              " 'path-to-our-new-full-image-folder/Leaf smut.35.jpeg',\n",
              " 'path-to-our-new-full-image-folder/Leaf smut.36.jpeg',\n",
              " 'path-to-our-new-full-image-folder/Leaf smut.37.jpeg',\n",
              " 'path-to-our-new-full-image-folder/Leaf smut.38.jpeg',\n",
              " 'path-to-our-new-full-image-folder/Brown spot.36.jpeg',\n",
              " 'path-to-our-new-full-image-folder/Brown spot.35.jpeg',\n",
              " 'path-to-our-new-full-image-folder/Brown spot.38.jpeg',\n",
              " 'path-to-our-new-full-image-folder/Brown spot.37.jpeg']"
            ]
          },
          "metadata": {},
          "execution_count": 190
        }
      ]
    },
    {
      "cell_type": "code",
      "source": [
        "x"
      ],
      "metadata": {
        "colab": {
          "base_uri": "https://localhost:8080/"
        },
        "id": "SilAP3lSq9cH",
        "outputId": "ebbb94f6-b8ad-4a98-e8e9-8da0e11559fc"
      },
      "execution_count": 191,
      "outputs": [
        {
          "output_type": "execute_result",
          "data": {
            "text/plain": [
              "array(['path-to-our-new-full-image-folder/Bacterial leaf blight.19.jpeg',\n",
              "       'path-to-our-new-full-image-folder/Bacterial leaf blight.18.jpeg',\n",
              "       'path-to-our-new-full-image-folder/Bacterial leaf blight.17.jpeg',\n",
              "       'path-to-our-new-full-image-folder/Bacterial leaf blight.14.jpeg',\n",
              "       'path-to-our-new-full-image-folder/Bacterial leaf blight.13.jpeg',\n",
              "       'path-to-our-new-full-image-folder/Bacterial leaf blight.12.jpeg',\n",
              "       'path-to-our-new-full-image-folder/Bacterial leaf blight.16.jpeg',\n",
              "       'path-to-our-new-full-image-folder/Bacterial leaf blight.11.jpeg',\n",
              "       'path-to-our-new-full-image-folder/Bacterial leaf blight.10.jpeg',\n",
              "       'path-to-our-new-full-image-folder/Bacterial leaf blight.1.jpeg',\n",
              "       'path-to-our-new-full-image-folder/Bacterial leaf blight.15.jpeg',\n",
              "       'path-to-our-new-full-image-folder/Bacterial leaf blight.0.jpeg',\n",
              "       'path-to-our-new-full-image-folder/Bacterial leaf blight.34.jpeg',\n",
              "       'path-to-our-new-full-image-folder/Bacterial leaf blight.33.jpeg',\n",
              "       'path-to-our-new-full-image-folder/Bacterial leaf blight.7.jpeg',\n",
              "       'path-to-our-new-full-image-folder/Bacterial leaf blight.32.jpeg',\n",
              "       'path-to-our-new-full-image-folder/Bacterial leaf blight.31.jpeg',\n",
              "       'path-to-our-new-full-image-folder/Bacterial leaf blight.30.jpeg',\n",
              "       'path-to-our-new-full-image-folder/Bacterial leaf blight.3.jpeg',\n",
              "       'path-to-our-new-full-image-folder/Bacterial leaf blight.29.jpeg',\n",
              "       'path-to-our-new-full-image-folder/Bacterial leaf blight.25.jpeg',\n",
              "       'path-to-our-new-full-image-folder/Bacterial leaf blight.28.jpeg',\n",
              "       'path-to-our-new-full-image-folder/Bacterial leaf blight.24.jpeg',\n",
              "       'path-to-our-new-full-image-folder/Bacterial leaf blight.23.jpeg',\n",
              "       'path-to-our-new-full-image-folder/Bacterial leaf blight.22.jpeg',\n",
              "       'path-to-our-new-full-image-folder/Bacterial leaf blight.21.jpeg',\n",
              "       'path-to-our-new-full-image-folder/Bacterial leaf blight.27.jpeg',\n",
              "       'path-to-our-new-full-image-folder/Bacterial leaf blight.20.jpeg',\n",
              "       'path-to-our-new-full-image-folder/Bacterial leaf blight.2.jpeg',\n",
              "       'path-to-our-new-full-image-folder/Bacterial leaf blight.26.jpeg',\n",
              "       'path-to-our-new-full-image-folder/Brown spot.24.jpeg',\n",
              "       'path-to-our-new-full-image-folder/Brown spot.22.jpeg',\n",
              "       'path-to-our-new-full-image-folder/Brown spot.20.jpeg',\n",
              "       'path-to-our-new-full-image-folder/Brown spot.21.jpeg',\n",
              "       'path-to-our-new-full-image-folder/Brown spot.28.jpeg',\n",
              "       'path-to-our-new-full-image-folder/Brown spot.23.jpeg',\n",
              "       'path-to-our-new-full-image-folder/Brown spot.2.jpeg',\n",
              "       'path-to-our-new-full-image-folder/Brown spot.19.jpeg',\n",
              "       'path-to-our-new-full-image-folder/Brown spot.18.jpeg',\n",
              "       'path-to-our-new-full-image-folder/Brown spot.13.jpeg',\n",
              "       'path-to-our-new-full-image-folder/Brown spot.15.jpeg',\n",
              "       'path-to-our-new-full-image-folder/Brown spot.14.jpeg',\n",
              "       'path-to-our-new-full-image-folder/Brown spot.16.jpeg',\n",
              "       'path-to-our-new-full-image-folder/Brown spot.12.jpeg',\n",
              "       'path-to-our-new-full-image-folder/Brown spot.10.jpeg',\n",
              "       'path-to-our-new-full-image-folder/Brown spot.11.jpeg',\n",
              "       'path-to-our-new-full-image-folder/Brown spot.17.jpeg',\n",
              "       'path-to-our-new-full-image-folder/Brown spot.1.jpeg',\n",
              "       'path-to-our-new-full-image-folder/Bacterial leaf blight.9.jpeg',\n",
              "       'path-to-our-new-full-image-folder/Brown spot.0.jpeg',\n",
              "       'path-to-our-new-full-image-folder/Bacterial leaf blight.6.jpeg',\n",
              "       'path-to-our-new-full-image-folder/Bacterial leaf blight.8.jpeg',\n",
              "       'path-to-our-new-full-image-folder/Bacterial leaf blight.5.jpeg',\n",
              "       'path-to-our-new-full-image-folder/Bacterial leaf blight.4.jpeg',\n",
              "       'path-to-our-new-full-image-folder/Leaf smut.10.jpeg',\n",
              "       'path-to-our-new-full-image-folder/Leaf smut.1.jpeg',\n",
              "       'path-to-our-new-full-image-folder/Brown spot.5.jpeg',\n",
              "       'path-to-our-new-full-image-folder/Brown spot.7.jpeg',\n",
              "       'path-to-our-new-full-image-folder/Brown spot.6.jpeg',\n",
              "       'path-to-our-new-full-image-folder/Leaf smut.0.jpeg',\n",
              "       'path-to-our-new-full-image-folder/Brown spot.4.jpeg',\n",
              "       'path-to-our-new-full-image-folder/Brown spot.34.jpeg',\n",
              "       'path-to-our-new-full-image-folder/Brown spot.9.jpeg',\n",
              "       'path-to-our-new-full-image-folder/Brown spot.33.jpeg',\n",
              "       'path-to-our-new-full-image-folder/Brown spot.32.jpeg',\n",
              "       'path-to-our-new-full-image-folder/Brown spot.31.jpeg',\n",
              "       'path-to-our-new-full-image-folder/Brown spot.8.jpeg',\n",
              "       'path-to-our-new-full-image-folder/Brown spot.30.jpeg',\n",
              "       'path-to-our-new-full-image-folder/Brown spot.3.jpeg',\n",
              "       'path-to-our-new-full-image-folder/Brown spot.27.jpeg',\n",
              "       'path-to-our-new-full-image-folder/Brown spot.26.jpeg',\n",
              "       'path-to-our-new-full-image-folder/Brown spot.29.jpeg',\n",
              "       'path-to-our-new-full-image-folder/Brown spot.25.jpeg',\n",
              "       'path-to-our-new-full-image-folder/Leaf smut.27.jpeg',\n",
              "       'path-to-our-new-full-image-folder/Leaf smut.32.jpeg',\n",
              "       'path-to-our-new-full-image-folder/Leaf smut.26.jpeg',\n",
              "       'path-to-our-new-full-image-folder/Leaf smut.31.jpeg',\n",
              "       'path-to-our-new-full-image-folder/Leaf smut.25.jpeg',\n",
              "       'path-to-our-new-full-image-folder/Leaf smut.30.jpeg',\n",
              "       'path-to-our-new-full-image-folder/Leaf smut.24.jpeg',\n",
              "       'path-to-our-new-full-image-folder/Leaf smut.23.jpeg',\n",
              "       'path-to-our-new-full-image-folder/Leaf smut.3.jpeg',\n",
              "       'path-to-our-new-full-image-folder/Leaf smut.22.jpeg',\n",
              "       'path-to-our-new-full-image-folder/Leaf smut.21.jpeg',\n",
              "       'path-to-our-new-full-image-folder/Leaf smut.18.jpeg',\n",
              "       'path-to-our-new-full-image-folder/Leaf smut.20.jpeg',\n",
              "       'path-to-our-new-full-image-folder/Leaf smut.17.jpeg',\n",
              "       'path-to-our-new-full-image-folder/Leaf smut.16.jpeg',\n",
              "       'path-to-our-new-full-image-folder/Leaf smut.2.jpeg',\n",
              "       'path-to-our-new-full-image-folder/Leaf smut.15.jpeg',\n",
              "       'path-to-our-new-full-image-folder/Leaf smut.14.jpeg',\n",
              "       'path-to-our-new-full-image-folder/Leaf smut.13.jpeg',\n",
              "       'path-to-our-new-full-image-folder/Leaf smut.12.jpeg',\n",
              "       'path-to-our-new-full-image-folder/Leaf smut.11.jpeg',\n",
              "       'path-to-our-new-full-image-folder/Leaf smut.19.jpeg',\n",
              "       'path-to-our-new-full-image-folder/Leaf smut.9.jpeg',\n",
              "       'path-to-our-new-full-image-folder/Leaf smut.7.jpeg',\n",
              "       'path-to-our-new-full-image-folder/Leaf smut.8.jpeg',\n",
              "       'path-to-our-new-full-image-folder/Leaf smut.6.jpeg',\n",
              "       'path-to-our-new-full-image-folder/Leaf smut.5.jpeg',\n",
              "       'path-to-our-new-full-image-folder/Leaf smut.4.jpeg',\n",
              "       'path-to-our-new-full-image-folder/Leaf smut.34.jpeg',\n",
              "       'path-to-our-new-full-image-folder/Leaf smut.33.jpeg',\n",
              "       'path-to-our-new-full-image-folder/Leaf smut.28.jpeg',\n",
              "       'path-to-our-new-full-image-folder/Leaf smut.29.jpeg',\n",
              "       'path-to-our-new-full-image-folder/Brown spot.39.jpeg',\n",
              "       'path-to-our-new-full-image-folder/Bacterial leaf blight.35.jpeg',\n",
              "       'path-to-our-new-full-image-folder/Bacterial leaf blight.36.jpeg',\n",
              "       'path-to-our-new-full-image-folder/Bacterial leaf blight.37.jpeg',\n",
              "       'path-to-our-new-full-image-folder/Bacterial leaf blight.38.jpeg',\n",
              "       'path-to-our-new-full-image-folder/Bacterial leaf blight.39.jpeg',\n",
              "       'path-to-our-new-full-image-folder/Leaf smut.35.jpeg',\n",
              "       'path-to-our-new-full-image-folder/Leaf smut.36.jpeg',\n",
              "       'path-to-our-new-full-image-folder/Leaf smut.37.jpeg',\n",
              "       'path-to-our-new-full-image-folder/Leaf smut.38.jpeg',\n",
              "       'path-to-our-new-full-image-folder/Brown spot.36.jpeg',\n",
              "       'path-to-our-new-full-image-folder/Brown spot.35.jpeg',\n",
              "       'path-to-our-new-full-image-folder/Brown spot.38.jpeg',\n",
              "       'path-to-our-new-full-image-folder/Brown spot.37.jpeg'],\n",
              "      dtype='<U63')"
            ]
          },
          "metadata": {},
          "execution_count": 191
        }
      ]
    },
    {
      "cell_type": "code",
      "source": [
        "#from sklearn.preprocessing import LabelEncoder\n",
        "#encode = LabelEncoder()\n",
        "#y = encode.fit_transform(y)"
      ],
      "metadata": {
        "id": "BkYc9xfxA08I"
      },
      "execution_count": 169,
      "outputs": []
    },
    {
      "cell_type": "code",
      "source": [
        "\n",
        "from sklearn.model_selection import train_test_split\n",
        "\n",
        "# Into train and valid \n",
        "x_train, x_test,y_train, y_test = train_test_split(x,y,test_size=0.2,random_state=2509)"
      ],
      "metadata": {
        "id": "wtMpIVgADs9N"
      },
      "execution_count": 192,
      "outputs": []
    },
    {
      "cell_type": "code",
      "source": [
        "x_train.shape"
      ],
      "metadata": {
        "colab": {
          "base_uri": "https://localhost:8080/"
        },
        "id": "4nsU1aDg7a4w",
        "outputId": "52d58c9f-248a-4a4c-e5d7-9a76e1ecd482"
      },
      "execution_count": 193,
      "outputs": [
        {
          "output_type": "execute_result",
          "data": {
            "text/plain": [
              "(95,)"
            ]
          },
          "metadata": {},
          "execution_count": 193
        }
      ]
    },
    {
      "cell_type": "code",
      "source": [
        "from keras.utils import np_utils\n",
        "from tensorflow import keras\n",
        "# one-hot encode the labels\n",
        "num_classes = len(np.unique(y_train))\n",
        "y_train = keras.utils.to_categorical(y_train, num_classes)\n",
        "y_test = keras.utils.to_categorical(y_test, num_classes)"
      ],
      "metadata": {
        "colab": {
          "base_uri": "https://localhost:8080/",
          "height": 364
        },
        "id": "DIiqKrXiwpzi",
        "outputId": "a70ce57d-3a9a-4309-d8de-990a8d6575f3"
      },
      "execution_count": 195,
      "outputs": [
        {
          "output_type": "error",
          "ename": "ValueError",
          "evalue": "ignored",
          "traceback": [
            "\u001b[0;31m---------------------------------------------------------------------------\u001b[0m",
            "\u001b[0;31mValueError\u001b[0m                                Traceback (most recent call last)",
            "\u001b[0;32m<ipython-input-195-d6c167824097>\u001b[0m in \u001b[0;36m<module>\u001b[0;34m\u001b[0m\n\u001b[1;32m      3\u001b[0m \u001b[0;31m# one-hot encode the labels\u001b[0m\u001b[0;34m\u001b[0m\u001b[0;34m\u001b[0m\u001b[0;34m\u001b[0m\u001b[0m\n\u001b[1;32m      4\u001b[0m \u001b[0mnum_classes\u001b[0m \u001b[0;34m=\u001b[0m \u001b[0mlen\u001b[0m\u001b[0;34m(\u001b[0m\u001b[0mnp\u001b[0m\u001b[0;34m.\u001b[0m\u001b[0munique\u001b[0m\u001b[0;34m(\u001b[0m\u001b[0my_train\u001b[0m\u001b[0;34m)\u001b[0m\u001b[0;34m)\u001b[0m\u001b[0;34m\u001b[0m\u001b[0;34m\u001b[0m\u001b[0m\n\u001b[0;32m----> 5\u001b[0;31m \u001b[0my_train\u001b[0m \u001b[0;34m=\u001b[0m \u001b[0mkeras\u001b[0m\u001b[0;34m.\u001b[0m\u001b[0mutils\u001b[0m\u001b[0;34m.\u001b[0m\u001b[0mto_categorical\u001b[0m\u001b[0;34m(\u001b[0m\u001b[0my_train\u001b[0m\u001b[0;34m,\u001b[0m \u001b[0mnum_classes\u001b[0m\u001b[0;34m)\u001b[0m\u001b[0;34m\u001b[0m\u001b[0;34m\u001b[0m\u001b[0m\n\u001b[0m\u001b[1;32m      6\u001b[0m \u001b[0my_test\u001b[0m \u001b[0;34m=\u001b[0m \u001b[0mkeras\u001b[0m\u001b[0;34m.\u001b[0m\u001b[0mutils\u001b[0m\u001b[0;34m.\u001b[0m\u001b[0mto_categorical\u001b[0m\u001b[0;34m(\u001b[0m\u001b[0my_test\u001b[0m\u001b[0;34m,\u001b[0m \u001b[0mnum_classes\u001b[0m\u001b[0;34m)\u001b[0m\u001b[0;34m\u001b[0m\u001b[0;34m\u001b[0m\u001b[0m\n",
            "\u001b[0;32m/usr/local/lib/python3.8/dist-packages/keras/utils/np_utils.py\u001b[0m in \u001b[0;36mto_categorical\u001b[0;34m(y, num_classes, dtype)\u001b[0m\n\u001b[1;32m     62\u001b[0m     \u001b[0;34m[\u001b[0m\u001b[0;36m0.\u001b[0m \u001b[0;36m0.\u001b[0m \u001b[0;36m0.\u001b[0m \u001b[0;36m0.\u001b[0m\u001b[0;34m]\u001b[0m\u001b[0;34m\u001b[0m\u001b[0;34m\u001b[0m\u001b[0m\n\u001b[1;32m     63\u001b[0m     \"\"\"\n\u001b[0;32m---> 64\u001b[0;31m     \u001b[0my\u001b[0m \u001b[0;34m=\u001b[0m \u001b[0mnp\u001b[0m\u001b[0;34m.\u001b[0m\u001b[0marray\u001b[0m\u001b[0;34m(\u001b[0m\u001b[0my\u001b[0m\u001b[0;34m,\u001b[0m \u001b[0mdtype\u001b[0m\u001b[0;34m=\u001b[0m\u001b[0;34m\"int\"\u001b[0m\u001b[0;34m)\u001b[0m\u001b[0;34m\u001b[0m\u001b[0;34m\u001b[0m\u001b[0m\n\u001b[0m\u001b[1;32m     65\u001b[0m     \u001b[0minput_shape\u001b[0m \u001b[0;34m=\u001b[0m \u001b[0my\u001b[0m\u001b[0;34m.\u001b[0m\u001b[0mshape\u001b[0m\u001b[0;34m\u001b[0m\u001b[0;34m\u001b[0m\u001b[0m\n\u001b[1;32m     66\u001b[0m     \u001b[0;32mif\u001b[0m \u001b[0minput_shape\u001b[0m \u001b[0;32mand\u001b[0m \u001b[0minput_shape\u001b[0m\u001b[0;34m[\u001b[0m\u001b[0;34m-\u001b[0m\u001b[0;36m1\u001b[0m\u001b[0;34m]\u001b[0m \u001b[0;34m==\u001b[0m \u001b[0;36m1\u001b[0m \u001b[0;32mand\u001b[0m \u001b[0mlen\u001b[0m\u001b[0;34m(\u001b[0m\u001b[0minput_shape\u001b[0m\u001b[0;34m)\u001b[0m \u001b[0;34m>\u001b[0m \u001b[0;36m1\u001b[0m\u001b[0;34m:\u001b[0m\u001b[0;34m\u001b[0m\u001b[0;34m\u001b[0m\u001b[0m\n",
            "\u001b[0;31mValueError\u001b[0m: invalid literal for int() with base 10: 'Brown spot'"
          ]
        }
      ]
    },
    {
      "cell_type": "code",
      "source": [
        "#train_data = create_data_batches(x_train, y_train)\n",
        "#val_data = create_data_batches(x_val, y_val, valid_data=True)"
      ],
      "metadata": {
        "id": "G0yII-hImIuY"
      },
      "execution_count": null,
      "outputs": []
    },
    {
      "cell_type": "code",
      "source": [
        "np.round(9.5)"
      ],
      "metadata": {
        "colab": {
          "base_uri": "https://localhost:8080/"
        },
        "id": "yM94Mnu99OWG",
        "outputId": "107508a4-fce9-4c06-9959-f5cbee6e0af2"
      },
      "execution_count": 176,
      "outputs": [
        {
          "output_type": "execute_result",
          "data": {
            "text/plain": [
              "10.0"
            ]
          },
          "metadata": {},
          "execution_count": 176
        }
      ]
    },
    {
      "cell_type": "markdown",
      "source": [
        "##Break Dataset into Training, Testing, and Validation Sets"
      ],
      "metadata": {
        "id": "QKH0UsPt9mTO"
      }
    },
    {
      "cell_type": "code",
      "source": [
        "# break training set into training and validation sets\n",
        "(x_train, x_valid) = x_train[10:], x_train[:10]\n",
        "(y_train, y_valid) = y_train[10:], y_train[:10]"
      ],
      "metadata": {
        "id": "IxT_ICT3859o"
      },
      "execution_count": 177,
      "outputs": []
    },
    {
      "cell_type": "code",
      "source": [
        "# print number of training, validation, and test images\n",
        "print(x_train.shape[0], 'train samples')\n",
        "print(x_test.shape[0], 'test samples')\n",
        "print(x_valid.shape[0], 'validation samples')"
      ],
      "metadata": {
        "colab": {
          "base_uri": "https://localhost:8080/"
        },
        "id": "Yhc6PM_v9tZZ",
        "outputId": "4274e001-a2b1-46ce-e147-95c108484e9e"
      },
      "execution_count": 178,
      "outputs": [
        {
          "output_type": "stream",
          "name": "stdout",
          "text": [
            "85 train samples\n",
            "24 test samples\n",
            "10 validation samples\n"
          ]
        }
      ]
    },
    {
      "cell_type": "markdown",
      "source": [
        "##Define the Model Architecture"
      ],
      "metadata": {
        "id": "npU2vcIe94oH"
      }
    },
    {
      "cell_type": "code",
      "source": [
        "data_agu = keras.Sequential([\n",
        "            keras.layers.experimental.preprocessing.RandomFlip(),\n",
        "            keras.layers.experimental.preprocessing.RandomRotation(0.4),\n",
        "            keras.layers.experimental.preprocessing.RandomContrast(0.4)\n",
        "            ])"
      ],
      "metadata": {
        "id": "73v3xiRL--1U"
      },
      "execution_count": 180,
      "outputs": []
    },
    {
      "cell_type": "code",
      "source": [
        "model = Sequential([\n",
        "    data_agu,\n",
        "    Conv2D(16, 3, padding='same', activation='relu'),\n",
        "    MaxPooling2D(),\n",
        "    Conv2D(32, 3, padding='same', activation='relu'),\n",
        "    MaxPooling2D(),\n",
        "    Conv2D(64, 3, padding='same', activation='relu'),\n",
        "    MaxPooling2D(),\n",
        "    Flatten(),\n",
        "    Dense(200, activation='relu'),\n",
        "    Dense(3)\n",
        "])"
      ],
      "metadata": {
        "id": "9VOaVTMv_ARp"
      },
      "execution_count": 181,
      "outputs": []
    },
    {
      "cell_type": "code",
      "source": [
        "from keras.callbacks import ModelCheckpoint   \n",
        "\n",
        "# train the model\n",
        "checkpointer = ModelCheckpoint(filepath='model.weights.best.hdf5', save_best_only=True)\n",
        "\n",
        "hist = model.fit(x_train, y_train,epochs=3,validation_data=(x_valid, y_valid),callbacks=[checkpointer],verbose=1, shuffle=True)"
      ],
      "metadata": {
        "colab": {
          "base_uri": "https://localhost:8080/",
          "height": 916
        },
        "id": "qtiQIiPrAeX3",
        "outputId": "8db03314-7002-4877-8a73-2c8170c4d665"
      },
      "execution_count": 187,
      "outputs": [
        {
          "output_type": "stream",
          "name": "stdout",
          "text": [
            "Epoch 1/3\n"
          ]
        },
        {
          "output_type": "error",
          "ename": "ValueError",
          "evalue": "ignored",
          "traceback": [
            "\u001b[0;31m---------------------------------------------------------------------------\u001b[0m",
            "\u001b[0;31mValueError\u001b[0m                                Traceback (most recent call last)",
            "\u001b[0;32m<ipython-input-187-2df5f6244941>\u001b[0m in \u001b[0;36m<module>\u001b[0;34m\u001b[0m\n\u001b[1;32m      4\u001b[0m \u001b[0mcheckpointer\u001b[0m \u001b[0;34m=\u001b[0m \u001b[0mModelCheckpoint\u001b[0m\u001b[0;34m(\u001b[0m\u001b[0mfilepath\u001b[0m\u001b[0;34m=\u001b[0m\u001b[0;34m'model.weights.best.hdf5'\u001b[0m\u001b[0;34m,\u001b[0m \u001b[0msave_best_only\u001b[0m\u001b[0;34m=\u001b[0m\u001b[0;32mTrue\u001b[0m\u001b[0;34m)\u001b[0m\u001b[0;34m\u001b[0m\u001b[0;34m\u001b[0m\u001b[0m\n\u001b[1;32m      5\u001b[0m \u001b[0;34m\u001b[0m\u001b[0m\n\u001b[0;32m----> 6\u001b[0;31m \u001b[0mhist\u001b[0m \u001b[0;34m=\u001b[0m \u001b[0mmodel\u001b[0m\u001b[0;34m.\u001b[0m\u001b[0mfit\u001b[0m\u001b[0;34m(\u001b[0m\u001b[0mx_train\u001b[0m\u001b[0;34m,\u001b[0m \u001b[0my_train\u001b[0m\u001b[0;34m,\u001b[0m\u001b[0mepochs\u001b[0m\u001b[0;34m=\u001b[0m\u001b[0;36m3\u001b[0m\u001b[0;34m,\u001b[0m\u001b[0mvalidation_data\u001b[0m\u001b[0;34m=\u001b[0m\u001b[0;34m(\u001b[0m\u001b[0mx_valid\u001b[0m\u001b[0;34m,\u001b[0m \u001b[0my_valid\u001b[0m\u001b[0;34m)\u001b[0m\u001b[0;34m,\u001b[0m\u001b[0mcallbacks\u001b[0m\u001b[0;34m=\u001b[0m\u001b[0;34m[\u001b[0m\u001b[0mcheckpointer\u001b[0m\u001b[0;34m]\u001b[0m\u001b[0;34m,\u001b[0m\u001b[0mverbose\u001b[0m\u001b[0;34m=\u001b[0m\u001b[0;36m1\u001b[0m\u001b[0;34m,\u001b[0m \u001b[0mshuffle\u001b[0m\u001b[0;34m=\u001b[0m\u001b[0;32mTrue\u001b[0m\u001b[0;34m)\u001b[0m\u001b[0;34m\u001b[0m\u001b[0;34m\u001b[0m\u001b[0m\n\u001b[0m",
            "\u001b[0;32m/usr/local/lib/python3.8/dist-packages/keras/utils/traceback_utils.py\u001b[0m in \u001b[0;36merror_handler\u001b[0;34m(*args, **kwargs)\u001b[0m\n\u001b[1;32m     68\u001b[0m             \u001b[0;31m# To get the full stack trace, call:\u001b[0m\u001b[0;34m\u001b[0m\u001b[0;34m\u001b[0m\u001b[0;34m\u001b[0m\u001b[0m\n\u001b[1;32m     69\u001b[0m             \u001b[0;31m# `tf.debugging.disable_traceback_filtering()`\u001b[0m\u001b[0;34m\u001b[0m\u001b[0;34m\u001b[0m\u001b[0;34m\u001b[0m\u001b[0m\n\u001b[0;32m---> 70\u001b[0;31m             \u001b[0;32mraise\u001b[0m \u001b[0me\u001b[0m\u001b[0;34m.\u001b[0m\u001b[0mwith_traceback\u001b[0m\u001b[0;34m(\u001b[0m\u001b[0mfiltered_tb\u001b[0m\u001b[0;34m)\u001b[0m \u001b[0;32mfrom\u001b[0m \u001b[0;32mNone\u001b[0m\u001b[0;34m\u001b[0m\u001b[0;34m\u001b[0m\u001b[0m\n\u001b[0m\u001b[1;32m     71\u001b[0m         \u001b[0;32mfinally\u001b[0m\u001b[0;34m:\u001b[0m\u001b[0;34m\u001b[0m\u001b[0;34m\u001b[0m\u001b[0m\n\u001b[1;32m     72\u001b[0m             \u001b[0;32mdel\u001b[0m \u001b[0mfiltered_tb\u001b[0m\u001b[0;34m\u001b[0m\u001b[0;34m\u001b[0m\u001b[0m\n",
            "\u001b[0;32m/usr/local/lib/python3.8/dist-packages/keras/engine/training.py\u001b[0m in \u001b[0;36mtf__train_function\u001b[0;34m(iterator)\u001b[0m\n\u001b[1;32m     13\u001b[0m                 \u001b[0;32mtry\u001b[0m\u001b[0;34m:\u001b[0m\u001b[0;34m\u001b[0m\u001b[0;34m\u001b[0m\u001b[0m\n\u001b[1;32m     14\u001b[0m                     \u001b[0mdo_return\u001b[0m \u001b[0;34m=\u001b[0m \u001b[0;32mTrue\u001b[0m\u001b[0;34m\u001b[0m\u001b[0;34m\u001b[0m\u001b[0m\n\u001b[0;32m---> 15\u001b[0;31m                     \u001b[0mretval_\u001b[0m \u001b[0;34m=\u001b[0m \u001b[0mag__\u001b[0m\u001b[0;34m.\u001b[0m\u001b[0mconverted_call\u001b[0m\u001b[0;34m(\u001b[0m\u001b[0mag__\u001b[0m\u001b[0;34m.\u001b[0m\u001b[0mld\u001b[0m\u001b[0;34m(\u001b[0m\u001b[0mstep_function\u001b[0m\u001b[0;34m)\u001b[0m\u001b[0;34m,\u001b[0m \u001b[0;34m(\u001b[0m\u001b[0mag__\u001b[0m\u001b[0;34m.\u001b[0m\u001b[0mld\u001b[0m\u001b[0;34m(\u001b[0m\u001b[0mself\u001b[0m\u001b[0;34m)\u001b[0m\u001b[0;34m,\u001b[0m \u001b[0mag__\u001b[0m\u001b[0;34m.\u001b[0m\u001b[0mld\u001b[0m\u001b[0;34m(\u001b[0m\u001b[0miterator\u001b[0m\u001b[0;34m)\u001b[0m\u001b[0;34m)\u001b[0m\u001b[0;34m,\u001b[0m \u001b[0;32mNone\u001b[0m\u001b[0;34m,\u001b[0m \u001b[0mfscope\u001b[0m\u001b[0;34m)\u001b[0m\u001b[0;34m\u001b[0m\u001b[0;34m\u001b[0m\u001b[0m\n\u001b[0m\u001b[1;32m     16\u001b[0m                 \u001b[0;32mexcept\u001b[0m\u001b[0;34m:\u001b[0m\u001b[0;34m\u001b[0m\u001b[0;34m\u001b[0m\u001b[0m\n\u001b[1;32m     17\u001b[0m                     \u001b[0mdo_return\u001b[0m \u001b[0;34m=\u001b[0m \u001b[0;32mFalse\u001b[0m\u001b[0;34m\u001b[0m\u001b[0;34m\u001b[0m\u001b[0m\n",
            "\u001b[0;31mValueError\u001b[0m: in user code:\n\n    File \"/usr/local/lib/python3.8/dist-packages/keras/engine/training.py\", line 1249, in train_function  *\n        return step_function(self, iterator)\n    File \"/usr/local/lib/python3.8/dist-packages/keras/engine/training.py\", line 1233, in step_function  **\n        outputs = model.distribute_strategy.run(run_step, args=(data,))\n    File \"/usr/local/lib/python3.8/dist-packages/keras/engine/training.py\", line 1222, in run_step  **\n        outputs = model.train_step(data)\n    File \"/usr/local/lib/python3.8/dist-packages/keras/engine/training.py\", line 1023, in train_step\n        y_pred = self(x, training=True)\n    File \"/usr/local/lib/python3.8/dist-packages/keras/utils/traceback_utils.py\", line 70, in error_handler\n        raise e.with_traceback(filtered_tb) from None\n    File \"/usr/local/lib/python3.8/dist-packages/keras/layers/preprocessing/image_preprocessing.py\", line 451, in call\n        raise ValueError(\n\n    ValueError: Exception encountered when calling layer 'random_flip' (type RandomFlip).\n    \n    Image augmentation layers are expecting inputs to be rank 3 (HWC) or 4D (NHWC) tensors. Got shape: (None,)\n    \n    Call arguments received by layer 'random_flip' (type RandomFlip):\n      • inputs=tf.Tensor(shape=(None,), dtype=string)\n      • training=True\n"
          ]
        }
      ]
    },
    {
      "cell_type": "code",
      "source": [
        "model.compile(optimizer='adam',\n",
        "              loss=tf.keras.losses.SparseCategoricalCrossentropy(from_logits=True),\n",
        "              metrics=['accuracy'])\n",
        "epoch=1\n",
        "history = model.fit(x_train[:85],y_train[10:],epochs=epoch,verbose=0, validation_data=(x_train[:10],y_train[:10]))"
      ],
      "metadata": {
        "colab": {
          "base_uri": "https://localhost:8080/",
          "height": 765
        },
        "id": "C9fYnrbA_FIC",
        "outputId": "bce3d07a-7dce-4782-e52f-99fd003b4b55"
      },
      "execution_count": 184,
      "outputs": [
        {
          "output_type": "error",
          "ename": "ValueError",
          "evalue": "ignored",
          "traceback": [
            "\u001b[0;31m---------------------------------------------------------------------------\u001b[0m",
            "\u001b[0;31mValueError\u001b[0m                                Traceback (most recent call last)",
            "\u001b[0;32m<ipython-input-184-f5b44edbf5ce>\u001b[0m in \u001b[0;36m<module>\u001b[0;34m\u001b[0m\n\u001b[1;32m      3\u001b[0m               metrics=['accuracy'])\n\u001b[1;32m      4\u001b[0m \u001b[0mepoch\u001b[0m\u001b[0;34m=\u001b[0m\u001b[0;36m1\u001b[0m\u001b[0;34m\u001b[0m\u001b[0;34m\u001b[0m\u001b[0m\n\u001b[0;32m----> 5\u001b[0;31m \u001b[0mhistory\u001b[0m \u001b[0;34m=\u001b[0m \u001b[0mmodel\u001b[0m\u001b[0;34m.\u001b[0m\u001b[0mfit\u001b[0m\u001b[0;34m(\u001b[0m\u001b[0mx_train\u001b[0m\u001b[0;34m[\u001b[0m\u001b[0;36m10\u001b[0m\u001b[0;34m:\u001b[0m\u001b[0;34m]\u001b[0m\u001b[0;34m,\u001b[0m\u001b[0my_train\u001b[0m\u001b[0;34m[\u001b[0m\u001b[0;36m10\u001b[0m\u001b[0;34m:\u001b[0m\u001b[0;34m]\u001b[0m\u001b[0;34m,\u001b[0m\u001b[0mepochs\u001b[0m\u001b[0;34m=\u001b[0m\u001b[0mepoch\u001b[0m\u001b[0;34m,\u001b[0m\u001b[0mverbose\u001b[0m\u001b[0;34m=\u001b[0m\u001b[0;36m0\u001b[0m\u001b[0;34m,\u001b[0m \u001b[0mvalidation_data\u001b[0m\u001b[0;34m=\u001b[0m\u001b[0;34m(\u001b[0m\u001b[0mx_train\u001b[0m\u001b[0;34m[\u001b[0m\u001b[0;34m:\u001b[0m\u001b[0;36m10\u001b[0m\u001b[0;34m]\u001b[0m\u001b[0;34m,\u001b[0m\u001b[0my_train\u001b[0m\u001b[0;34m[\u001b[0m\u001b[0;34m:\u001b[0m\u001b[0;36m10\u001b[0m\u001b[0;34m]\u001b[0m\u001b[0;34m)\u001b[0m\u001b[0;34m)\u001b[0m\u001b[0;34m\u001b[0m\u001b[0;34m\u001b[0m\u001b[0m\n\u001b[0m",
            "\u001b[0;32m/usr/local/lib/python3.8/dist-packages/keras/utils/traceback_utils.py\u001b[0m in \u001b[0;36merror_handler\u001b[0;34m(*args, **kwargs)\u001b[0m\n\u001b[1;32m     68\u001b[0m             \u001b[0;31m# To get the full stack trace, call:\u001b[0m\u001b[0;34m\u001b[0m\u001b[0;34m\u001b[0m\u001b[0;34m\u001b[0m\u001b[0m\n\u001b[1;32m     69\u001b[0m             \u001b[0;31m# `tf.debugging.disable_traceback_filtering()`\u001b[0m\u001b[0;34m\u001b[0m\u001b[0;34m\u001b[0m\u001b[0;34m\u001b[0m\u001b[0m\n\u001b[0;32m---> 70\u001b[0;31m             \u001b[0;32mraise\u001b[0m \u001b[0me\u001b[0m\u001b[0;34m.\u001b[0m\u001b[0mwith_traceback\u001b[0m\u001b[0;34m(\u001b[0m\u001b[0mfiltered_tb\u001b[0m\u001b[0;34m)\u001b[0m \u001b[0;32mfrom\u001b[0m \u001b[0;32mNone\u001b[0m\u001b[0;34m\u001b[0m\u001b[0;34m\u001b[0m\u001b[0m\n\u001b[0m\u001b[1;32m     71\u001b[0m         \u001b[0;32mfinally\u001b[0m\u001b[0;34m:\u001b[0m\u001b[0;34m\u001b[0m\u001b[0;34m\u001b[0m\u001b[0m\n\u001b[1;32m     72\u001b[0m             \u001b[0;32mdel\u001b[0m \u001b[0mfiltered_tb\u001b[0m\u001b[0;34m\u001b[0m\u001b[0;34m\u001b[0m\u001b[0m\n",
            "\u001b[0;32m/usr/local/lib/python3.8/dist-packages/keras/engine/training.py\u001b[0m in \u001b[0;36mtf__train_function\u001b[0;34m(iterator)\u001b[0m\n\u001b[1;32m     13\u001b[0m                 \u001b[0;32mtry\u001b[0m\u001b[0;34m:\u001b[0m\u001b[0;34m\u001b[0m\u001b[0;34m\u001b[0m\u001b[0m\n\u001b[1;32m     14\u001b[0m                     \u001b[0mdo_return\u001b[0m \u001b[0;34m=\u001b[0m \u001b[0;32mTrue\u001b[0m\u001b[0;34m\u001b[0m\u001b[0;34m\u001b[0m\u001b[0m\n\u001b[0;32m---> 15\u001b[0;31m                     \u001b[0mretval_\u001b[0m \u001b[0;34m=\u001b[0m \u001b[0mag__\u001b[0m\u001b[0;34m.\u001b[0m\u001b[0mconverted_call\u001b[0m\u001b[0;34m(\u001b[0m\u001b[0mag__\u001b[0m\u001b[0;34m.\u001b[0m\u001b[0mld\u001b[0m\u001b[0;34m(\u001b[0m\u001b[0mstep_function\u001b[0m\u001b[0;34m)\u001b[0m\u001b[0;34m,\u001b[0m \u001b[0;34m(\u001b[0m\u001b[0mag__\u001b[0m\u001b[0;34m.\u001b[0m\u001b[0mld\u001b[0m\u001b[0;34m(\u001b[0m\u001b[0mself\u001b[0m\u001b[0;34m)\u001b[0m\u001b[0;34m,\u001b[0m \u001b[0mag__\u001b[0m\u001b[0;34m.\u001b[0m\u001b[0mld\u001b[0m\u001b[0;34m(\u001b[0m\u001b[0miterator\u001b[0m\u001b[0;34m)\u001b[0m\u001b[0;34m)\u001b[0m\u001b[0;34m,\u001b[0m \u001b[0;32mNone\u001b[0m\u001b[0;34m,\u001b[0m \u001b[0mfscope\u001b[0m\u001b[0;34m)\u001b[0m\u001b[0;34m\u001b[0m\u001b[0;34m\u001b[0m\u001b[0m\n\u001b[0m\u001b[1;32m     16\u001b[0m                 \u001b[0;32mexcept\u001b[0m\u001b[0;34m:\u001b[0m\u001b[0;34m\u001b[0m\u001b[0;34m\u001b[0m\u001b[0m\n\u001b[1;32m     17\u001b[0m                     \u001b[0mdo_return\u001b[0m \u001b[0;34m=\u001b[0m \u001b[0;32mFalse\u001b[0m\u001b[0;34m\u001b[0m\u001b[0;34m\u001b[0m\u001b[0m\n",
            "\u001b[0;31mValueError\u001b[0m: in user code:\n\n    File \"/usr/local/lib/python3.8/dist-packages/keras/engine/training.py\", line 1249, in train_function  *\n        return step_function(self, iterator)\n    File \"/usr/local/lib/python3.8/dist-packages/keras/engine/training.py\", line 1233, in step_function  **\n        outputs = model.distribute_strategy.run(run_step, args=(data,))\n    File \"/usr/local/lib/python3.8/dist-packages/keras/engine/training.py\", line 1222, in run_step  **\n        outputs = model.train_step(data)\n    File \"/usr/local/lib/python3.8/dist-packages/keras/engine/training.py\", line 1023, in train_step\n        y_pred = self(x, training=True)\n    File \"/usr/local/lib/python3.8/dist-packages/keras/utils/traceback_utils.py\", line 70, in error_handler\n        raise e.with_traceback(filtered_tb) from None\n    File \"/usr/local/lib/python3.8/dist-packages/keras/layers/preprocessing/image_preprocessing.py\", line 451, in call\n        raise ValueError(\n\n    ValueError: Exception encountered when calling layer 'random_flip' (type RandomFlip).\n    \n    Image augmentation layers are expecting inputs to be rank 3 (HWC) or 4D (NHWC) tensors. Got shape: (None,)\n    \n    Call arguments received by layer 'random_flip' (type RandomFlip):\n      • inputs=tf.Tensor(shape=(None,), dtype=string)\n      • training=True\n"
          ]
        }
      ]
    },
    {
      "cell_type": "code",
      "source": [
        "from keras.models import Sequential\n",
        "from keras.layers import Conv2D, MaxPooling2D, Flatten, Dense, Dropout\n",
        "\n",
        "model = Sequential()\n",
        "model.add(Conv2D(filters=16, kernel_size=2, padding='same', activation='relu', \n",
        "                        input_shape=(32, 32, 3)))\n",
        "model.add(MaxPooling2D(pool_size=2))\n",
        "\n",
        "model.add(Conv2D(filters=32, kernel_size=2, padding='same', activation='relu'))\n",
        "model.add(MaxPooling2D(pool_size=2))\n",
        "\n",
        "model.add(Conv2D(filters=64, kernel_size=2, padding='same', activation='relu'))\n",
        "model.add(MaxPooling2D(pool_size=2))\n",
        "model.add(Dropout(0.3))\n",
        "\n",
        "model.add(Flatten())\n",
        "model.add(Dense(500, activation='relu'))\n",
        "\n",
        "model.add(Dropout(0.4))\n",
        "model.add(Dense(10, activation='softmax'))\n",
        "\n",
        "model.summary()"
      ],
      "metadata": {
        "colab": {
          "base_uri": "https://localhost:8080/"
        },
        "id": "P5xN4wZHqqPW",
        "outputId": "6332b864-b999-4a77-d7aa-22fc5fac2b7e"
      },
      "execution_count": 179,
      "outputs": [
        {
          "output_type": "stream",
          "name": "stdout",
          "text": [
            "Model: \"sequential_4\"\n",
            "_________________________________________________________________\n",
            " Layer (type)                Output Shape              Param #   \n",
            "=================================================================\n",
            " conv2d_12 (Conv2D)          (None, 32, 32, 16)        208       \n",
            "                                                                 \n",
            " max_pooling2d_12 (MaxPoolin  (None, 16, 16, 16)       0         \n",
            " g2D)                                                            \n",
            "                                                                 \n",
            " conv2d_13 (Conv2D)          (None, 16, 16, 32)        2080      \n",
            "                                                                 \n",
            " max_pooling2d_13 (MaxPoolin  (None, 8, 8, 32)         0         \n",
            " g2D)                                                            \n",
            "                                                                 \n",
            " conv2d_14 (Conv2D)          (None, 8, 8, 64)          8256      \n",
            "                                                                 \n",
            " max_pooling2d_14 (MaxPoolin  (None, 4, 4, 64)         0         \n",
            " g2D)                                                            \n",
            "                                                                 \n",
            " dropout_8 (Dropout)         (None, 4, 4, 64)          0         \n",
            "                                                                 \n",
            " flatten_4 (Flatten)         (None, 1024)              0         \n",
            "                                                                 \n",
            " dense_8 (Dense)             (None, 500)               512500    \n",
            "                                                                 \n",
            " dropout_9 (Dropout)         (None, 500)               0         \n",
            "                                                                 \n",
            " dense_9 (Dense)             (None, 10)                5010      \n",
            "                                                                 \n",
            "=================================================================\n",
            "Total params: 528,054\n",
            "Trainable params: 528,054\n",
            "Non-trainable params: 0\n",
            "_________________________________________________________________\n"
          ]
        }
      ]
    },
    {
      "cell_type": "code",
      "source": [
        "model.compile(loss='categorical_crossentropy', optimizer='rmsprop', metrics=['accuracy'])"
      ],
      "metadata": {
        "id": "JeljxnngqyCk"
      },
      "execution_count": 144,
      "outputs": []
    },
    {
      "cell_type": "code",
      "source": [
        "df.shape"
      ],
      "metadata": {
        "colab": {
          "base_uri": "https://localhost:8080/"
        },
        "id": "GvdQ2ScGy-KJ",
        "outputId": "5623e0fb-97df-4fed-8c71-192f59c90e3c"
      },
      "execution_count": 148,
      "outputs": [
        {
          "output_type": "execute_result",
          "data": {
            "text/plain": [
              "(105, 2)"
            ]
          },
          "metadata": {},
          "execution_count": 148
        }
      ]
    },
    {
      "cell_type": "code",
      "source": [
        "x_train.shape"
      ],
      "metadata": {
        "colab": {
          "base_uri": "https://localhost:8080/"
        },
        "id": "hg0uXvYnzwLn",
        "outputId": "c24a58fb-ca0a-49ae-9766-a99d295909a7"
      },
      "execution_count": 149,
      "outputs": [
        {
          "output_type": "execute_result",
          "data": {
            "text/plain": [
              "(84,)"
            ]
          },
          "metadata": {},
          "execution_count": 149
        }
      ]
    },
    {
      "cell_type": "code",
      "source": [
        "y_"
      ],
      "metadata": {
        "id": "fz5kn1x9zzqT"
      },
      "execution_count": null,
      "outputs": []
    },
    {
      "cell_type": "code",
      "source": [
        "import numpy as np\n",
        "import pandas as pd\n",
        "from sklearn.preprocessing import LabelEncoder\n",
        "from keras.utils import to_categorical\n",
        "\n",
        "# Load the data from the CSV file into a pandas DataFrame\n",
        "df = pd.read_csv('data.csv')\n",
        "\n",
        "# Convert the input features into numerical representations using one-hot encoding\n",
        "X = df.iloc[:, :-1].values\n",
        "encoder = LabelEncoder()\n",
        "X = encoder.fit_transform(X)\n",
        "X = to_categorical(X)\n",
        "\n",
        "# Load the labels from the CSV file into a pandas DataFrame\n",
        "df_labels = labels_csv[\"labels\"]\n",
        "\n",
        "# Convert the labels into numerical representations using one-hot encoding\n",
        "y = df_labels.values\n",
        "encoder = LabelEncoder()\n",
        "y = encoder.fit_transform(y)\n",
        "y = to_categorical(y)\n",
        "\n",
        "# Split the data into training and validation sets\n",
        "#X_train, X_val = X[:3000], X[3000:]\n",
        "#y_train, y_val = y[:3000], y[3000:]\n",
        "\n",
        "X_train, X_val,y_train1, y_val1 = train_test_split(X,y,test_size=0,random_state=2509)\n"
      ],
      "metadata": {
        "id": "DdNYpoiGERU6",
        "colab": {
          "base_uri": "https://localhost:8080/"
        },
        "outputId": "c812b787-a654-403c-b337-a6a90c267ae8"
      },
      "execution_count": 145,
      "outputs": [
        {
          "output_type": "stream",
          "name": "stderr",
          "text": [
            "/usr/local/lib/python3.8/dist-packages/sklearn/preprocessing/_label.py:115: DataConversionWarning: A column-vector y was passed when a 1d array was expected. Please change the shape of y to (n_samples, ), for example using ravel().\n",
            "  y = column_or_1d(y, warn=True)\n"
          ]
        }
      ]
    },
    {
      "cell_type": "code",
      "source": [
        "from keras.utils import np_utils\n",
        "from tensorflow import keras\n",
        "# one-hot encode the labels\n",
        "num_classes = len(np.unique(y_train))\n",
        "y_train1 = keras.utils.to_categorical(y_train1, num_classes)\n",
        "y_val1 = keras.utils.to_categorical(y_val1, num_classes)"
      ],
      "metadata": {
        "id": "KjhAMvCNxNjZ"
      },
      "execution_count": 146,
      "outputs": []
    },
    {
      "cell_type": "code",
      "source": [
        "X_train.shape"
      ],
      "metadata": {
        "colab": {
          "base_uri": "https://localhost:8080/"
        },
        "id": "1V_YpTJNv6cv",
        "outputId": "e0b68c5c-56e4-467f-883c-42374f317f69"
      },
      "execution_count": 147,
      "outputs": [
        {
          "output_type": "execute_result",
          "data": {
            "text/plain": [
              "(84, 105)"
            ]
          },
          "metadata": {},
          "execution_count": 147
        }
      ]
    },
    {
      "cell_type": "code",
      "source": [
        "df"
      ],
      "metadata": {
        "id": "JjxHiqNgvmXa"
      },
      "execution_count": null,
      "outputs": []
    },
    {
      "cell_type": "code",
      "source": [
        "X"
      ],
      "metadata": {
        "id": "2FCMOk-FEo_e"
      },
      "execution_count": null,
      "outputs": []
    },
    {
      "cell_type": "code",
      "source": [],
      "metadata": {
        "id": "pXspJKY1xHnY"
      },
      "execution_count": null,
      "outputs": []
    },
    {
      "cell_type": "code",
      "source": [
        "from keras.callbacks import ModelCheckpoint   \n",
        "\n",
        "# train the model\n",
        "checkpointer = ModelCheckpoint(filepath='model.weights.best.hdf5', save_best_only=True)\n",
        "\n",
        "hist = model.fit(X_train, y_train, batch_size=32, epochs=3,validation_data=(X_val, y_val),callbacks=[checkpointer],verbose=1,shuffle=True)"
      ],
      "metadata": {
        "id": "acSBOS47q-0D"
      },
      "execution_count": null,
      "outputs": []
    },
    {
      "cell_type": "code",
      "source": [
        "from google.colab import drive\n",
        "drive.mount('/content/drive')"
      ],
      "metadata": {
        "id": "xBOphF7wItlo"
      },
      "execution_count": null,
      "outputs": []
    },
    {
      "cell_type": "code",
      "source": [
        "model.load_weights('model.weights.best.hdf5')"
      ],
      "metadata": {
        "id": "hfQbOCGpsDIq"
      },
      "execution_count": null,
      "outputs": []
    }
  ]
}